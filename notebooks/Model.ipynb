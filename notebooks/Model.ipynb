{
 "cells": [
  {
   "cell_type": "code",
   "execution_count": 204,
   "id": "fc8e6aba-fb21-4206-a452-1b46f8deff11",
   "metadata": {
    "tags": []
   },
   "outputs": [],
   "source": [
    "import pandas as pd\n",
    "import numpy as np\n",
    "import joblib\n",
    "\n",
    "from sklearn.model_selection import train_test_split\n",
    "from sklearn.ensemble import RandomForestRegressor\n",
    "from sklearn.linear_model import LinearRegression\n",
    "from sklearn.svm import SVR\n",
    "\n",
    "from sklearn.cluster import KMeans\n",
    "\n",
    "from sklearn.preprocessing import OneHotEncoder, StandardScaler, MultiLabelBinarizer, OrdinalEncoder\n",
    "from sklearn.pipeline import Pipeline, make_pipeline\n",
    "from sklearn.compose import ColumnTransformer\n",
    "\n",
    "from sklearn import set_config\n",
    "set_config(display=\"diagram\")"
   ]
  },
  {
   "cell_type": "code",
   "execution_count": 205,
   "id": "f4374c4e-1a37-41ef-a589-a0830857e192",
   "metadata": {
    "tags": []
   },
   "outputs": [],
   "source": [
    "# MultiLabel Binarizer for categorical columns\n",
    "class CustomMultiLabelBinarizer(MultiLabelBinarizer):\n",
    "    def __init__(self):\n",
    "        super().__init__()\n",
    "        self.classes = None\n",
    "        \n",
    "    def fit(self, y):\n",
    "        return super().fit(y)\n",
    "    \n",
    "    def transform(self, y):\n",
    "        return super().transform(y)\n",
    "    \n",
    "    def fit_transform(self, X, y):\n",
    "        return super().fit_transform(X)\n"
   ]
  },
  {
   "cell_type": "code",
   "execution_count": 211,
   "id": "ef862621-000b-4b2b-8b76-213d730af5cb",
   "metadata": {
    "tags": []
   },
   "outputs": [
    {
     "data": {
      "text/html": [
       "<div>\n",
       "<style scoped>\n",
       "    .dataframe tbody tr th:only-of-type {\n",
       "        vertical-align: middle;\n",
       "    }\n",
       "\n",
       "    .dataframe tbody tr th {\n",
       "        vertical-align: top;\n",
       "    }\n",
       "\n",
       "    .dataframe thead th {\n",
       "        text-align: right;\n",
       "    }\n",
       "</style>\n",
       "<table border=\"1\" class=\"dataframe\">\n",
       "  <thead>\n",
       "    <tr style=\"text-align: right;\">\n",
       "      <th></th>\n",
       "      <th>Rating</th>\n",
       "      <th>MRP</th>\n",
       "      <th>Processor</th>\n",
       "      <th>RAM</th>\n",
       "      <th>OS</th>\n",
       "      <th>Storage</th>\n",
       "      <th>Brand</th>\n",
       "      <th>OS_arch</th>\n",
       "      <th>RAM_Type</th>\n",
       "    </tr>\n",
       "  </thead>\n",
       "  <tbody>\n",
       "    <tr>\n",
       "      <th>0</th>\n",
       "      <td>4.2</td>\n",
       "      <td>25490.0</td>\n",
       "      <td>Intel Celeron Dual Core Processor</td>\n",
       "      <td>4 GB</td>\n",
       "      <td>Windows 11</td>\n",
       "      <td>['512 GB SSD']</td>\n",
       "      <td>HP</td>\n",
       "      <td>64</td>\n",
       "      <td>LPDDR4</td>\n",
       "    </tr>\n",
       "    <tr>\n",
       "      <th>1</th>\n",
       "      <td>3.8</td>\n",
       "      <td>22490.0</td>\n",
       "      <td>Intel Core i5 Processor</td>\n",
       "      <td>4 GB</td>\n",
       "      <td>Windows 11</td>\n",
       "      <td>['512 GB SSD']</td>\n",
       "      <td>HP</td>\n",
       "      <td>64</td>\n",
       "      <td>LPDDR4X</td>\n",
       "    </tr>\n",
       "    <tr>\n",
       "      <th>2</th>\n",
       "      <td>4.1</td>\n",
       "      <td>25685.0</td>\n",
       "      <td>Intel Celeron Dual Core Processor</td>\n",
       "      <td>8 GB</td>\n",
       "      <td>Windows 11</td>\n",
       "      <td>['256 GB SSD']</td>\n",
       "      <td>Lenovo</td>\n",
       "      <td>64</td>\n",
       "      <td>DDR4</td>\n",
       "    </tr>\n",
       "    <tr>\n",
       "      <th>3</th>\n",
       "      <td>4.4</td>\n",
       "      <td>51990.0</td>\n",
       "      <td>Intel Core i5 Processor</td>\n",
       "      <td>8 GB</td>\n",
       "      <td>Windows 11</td>\n",
       "      <td>['512 GB SSD']</td>\n",
       "      <td>ASUS</td>\n",
       "      <td>64</td>\n",
       "      <td>DDR4</td>\n",
       "    </tr>\n",
       "    <tr>\n",
       "      <th>4</th>\n",
       "      <td>4.2</td>\n",
       "      <td>38990.0</td>\n",
       "      <td>Intel Core i3 Processor</td>\n",
       "      <td>8 GB</td>\n",
       "      <td>Windows 11</td>\n",
       "      <td>['512 GB SSD']</td>\n",
       "      <td>ASUS</td>\n",
       "      <td>64</td>\n",
       "      <td>DDR4</td>\n",
       "    </tr>\n",
       "  </tbody>\n",
       "</table>\n",
       "</div>"
      ],
      "text/plain": [
       "   Rating      MRP                          Processor   RAM          OS  \\\n",
       "0     4.2  25490.0  Intel Celeron Dual Core Processor  4 GB  Windows 11   \n",
       "1     3.8  22490.0            Intel Core i5 Processor  4 GB  Windows 11   \n",
       "2     4.1  25685.0  Intel Celeron Dual Core Processor  8 GB  Windows 11   \n",
       "3     4.4  51990.0            Intel Core i5 Processor  8 GB  Windows 11   \n",
       "4     4.2  38990.0            Intel Core i3 Processor  8 GB  Windows 11   \n",
       "\n",
       "          Storage   Brand  OS_arch RAM_Type  \n",
       "0  ['512 GB SSD']      HP       64   LPDDR4  \n",
       "1  ['512 GB SSD']      HP       64  LPDDR4X  \n",
       "2  ['256 GB SSD']  Lenovo       64     DDR4  \n",
       "3  ['512 GB SSD']    ASUS       64     DDR4  \n",
       "4  ['512 GB SSD']    ASUS       64     DDR4  "
      ]
     },
     "execution_count": 211,
     "metadata": {},
     "output_type": "execute_result"
    }
   ],
   "source": [
    "data = pd.read_csv(\"../data/preprocessed.csv\", index_col=0)\n",
    "data.head()"
   ]
  },
  {
   "cell_type": "code",
   "execution_count": 212,
   "id": "4418cc98-46c0-4970-8bdf-c2d49d843bd2",
   "metadata": {
    "tags": []
   },
   "outputs": [],
   "source": [
    "data.Storage = data.Storage.apply(lambda x: tuple(eval(x)))"
   ]
  },
  {
   "cell_type": "markdown",
   "id": "50d2ebdf-1a2a-40c2-93cd-6574ee765f56",
   "metadata": {
    "jp-MarkdownHeadingCollapsed": true,
    "tags": []
   },
   "source": [
    "# Price Estimation"
   ]
  },
  {
   "cell_type": "code",
   "execution_count": 151,
   "id": "c990ce44-caa3-45a3-a40a-70239925dd64",
   "metadata": {
    "tags": []
   },
   "outputs": [],
   "source": [
    "data.drop([\"Rating\", \"Brand\"], axis=1, inplace=True)"
   ]
  },
  {
   "cell_type": "code",
   "execution_count": 152,
   "id": "2110efeb-ea20-421a-8e11-5fdb19c91f25",
   "metadata": {
    "tags": []
   },
   "outputs": [],
   "source": [
    "X, y = data.drop(\"MRP\", axis=1), data.MRP"
   ]
  },
  {
   "cell_type": "code",
   "execution_count": 153,
   "id": "81465ce1-abf1-4612-9ff4-91767227802f",
   "metadata": {
    "tags": []
   },
   "outputs": [],
   "source": [
    "xtrain, xtest, ytrain, ytest = train_test_split(X, y, test_size=0.2)"
   ]
  },
  {
   "cell_type": "code",
   "execution_count": 154,
   "id": "05882cbc-0319-4826-99e7-a937c95e1428",
   "metadata": {
    "tags": []
   },
   "outputs": [
    {
     "data": {
      "text/html": [
       "<div>\n",
       "<style scoped>\n",
       "    .dataframe tbody tr th:only-of-type {\n",
       "        vertical-align: middle;\n",
       "    }\n",
       "\n",
       "    .dataframe tbody tr th {\n",
       "        vertical-align: top;\n",
       "    }\n",
       "\n",
       "    .dataframe thead th {\n",
       "        text-align: right;\n",
       "    }\n",
       "</style>\n",
       "<table border=\"1\" class=\"dataframe\">\n",
       "  <thead>\n",
       "    <tr style=\"text-align: right;\">\n",
       "      <th></th>\n",
       "      <th>Processor</th>\n",
       "      <th>RAM</th>\n",
       "      <th>OS</th>\n",
       "      <th>Storage</th>\n",
       "      <th>OS_arch</th>\n",
       "      <th>RAM_Type</th>\n",
       "    </tr>\n",
       "  </thead>\n",
       "  <tbody>\n",
       "    <tr>\n",
       "      <th>411</th>\n",
       "      <td>Intel Celeron Dual Core Processor</td>\n",
       "      <td>4 GB</td>\n",
       "      <td>Windows 11</td>\n",
       "      <td>['512 GB SSD']</td>\n",
       "      <td>64</td>\n",
       "      <td>LPDDR4</td>\n",
       "    </tr>\n",
       "    <tr>\n",
       "      <th>108</th>\n",
       "      <td>Intel Core i5 Processor</td>\n",
       "      <td>8 GB</td>\n",
       "      <td>Windows 11</td>\n",
       "      <td>['256 GB SSD']</td>\n",
       "      <td>64</td>\n",
       "      <td>DDR4</td>\n",
       "    </tr>\n",
       "    <tr>\n",
       "      <th>408</th>\n",
       "      <td>Intel Core i5 Processor</td>\n",
       "      <td>8 GB</td>\n",
       "      <td>Windows 11</td>\n",
       "      <td>['512 GB SSD']</td>\n",
       "      <td>64</td>\n",
       "      <td>DDR4</td>\n",
       "    </tr>\n",
       "    <tr>\n",
       "      <th>357</th>\n",
       "      <td>Intel Core i9 Processor</td>\n",
       "      <td>32 GB</td>\n",
       "      <td>Windows 11</td>\n",
       "      <td>['1 TB SSD']</td>\n",
       "      <td>64</td>\n",
       "      <td>DDR5</td>\n",
       "    </tr>\n",
       "    <tr>\n",
       "      <th>628</th>\n",
       "      <td>Intel Core i5 Processor</td>\n",
       "      <td>8 GB</td>\n",
       "      <td>Windows 11</td>\n",
       "      <td>['512 GB SSD']</td>\n",
       "      <td>64</td>\n",
       "      <td>DDR4</td>\n",
       "    </tr>\n",
       "  </tbody>\n",
       "</table>\n",
       "</div>"
      ],
      "text/plain": [
       "                             Processor    RAM          OS         Storage  \\\n",
       "411  Intel Celeron Dual Core Processor   4 GB  Windows 11  ['512 GB SSD']   \n",
       "108            Intel Core i5 Processor   8 GB  Windows 11  ['256 GB SSD']   \n",
       "408            Intel Core i5 Processor   8 GB  Windows 11  ['512 GB SSD']   \n",
       "357            Intel Core i9 Processor  32 GB  Windows 11    ['1 TB SSD']   \n",
       "628            Intel Core i5 Processor   8 GB  Windows 11  ['512 GB SSD']   \n",
       "\n",
       "     OS_arch RAM_Type  \n",
       "411       64   LPDDR4  \n",
       "108       64     DDR4  \n",
       "408       64     DDR4  \n",
       "357       64     DDR5  \n",
       "628       64     DDR4  "
      ]
     },
     "execution_count": 154,
     "metadata": {},
     "output_type": "execute_result"
    }
   ],
   "source": [
    "xtrain.head()"
   ]
  },
  {
   "cell_type": "code",
   "execution_count": 155,
   "id": "71c9e6fc-cb6b-4ada-832d-e7d908c2bc2c",
   "metadata": {
    "tags": []
   },
   "outputs": [
    {
     "data": {
      "text/plain": [
       "array([[1, 1, 0, ..., 0, 1, 1],\n",
       "       [1, 1, 0, ..., 0, 1, 1],\n",
       "       [1, 1, 0, ..., 0, 1, 1],\n",
       "       ...,\n",
       "       [1, 1, 0, ..., 0, 1, 1],\n",
       "       [1, 1, 0, ..., 0, 1, 1],\n",
       "       [1, 1, 0, ..., 0, 1, 1]])"
      ]
     },
     "execution_count": 155,
     "metadata": {},
     "output_type": "execute_result"
    }
   ],
   "source": [
    "cmb = CustomMultiLabelBinarizer()\n",
    "cmb.fit_transform(data.Storage.values, [])"
   ]
  },
  {
   "cell_type": "code",
   "execution_count": 156,
   "id": "b08371c6-469a-45ca-aac3-8b49ee548a71",
   "metadata": {
    "tags": []
   },
   "outputs": [
    {
     "data": {
      "text/plain": [
       "['8 GB', '4 GB', '32 GB', '16 GB']"
      ]
     },
     "execution_count": 156,
     "metadata": {},
     "output_type": "execute_result"
    }
   ],
   "source": [
    "list(data.RAM.sort_values()[::-1].unique())"
   ]
  },
  {
   "cell_type": "code",
   "execution_count": 157,
   "id": "7d0c5d30-f093-4c0f-bddc-8b3bf3100219",
   "metadata": {
    "tags": []
   },
   "outputs": [
    {
     "data": {
      "text/html": [
       "<style>#sk-container-id-15 {color: black;background-color: white;}#sk-container-id-15 pre{padding: 0;}#sk-container-id-15 div.sk-toggleable {background-color: white;}#sk-container-id-15 label.sk-toggleable__label {cursor: pointer;display: block;width: 100%;margin-bottom: 0;padding: 0.3em;box-sizing: border-box;text-align: center;}#sk-container-id-15 label.sk-toggleable__label-arrow:before {content: \"▸\";float: left;margin-right: 0.25em;color: #696969;}#sk-container-id-15 label.sk-toggleable__label-arrow:hover:before {color: black;}#sk-container-id-15 div.sk-estimator:hover label.sk-toggleable__label-arrow:before {color: black;}#sk-container-id-15 div.sk-toggleable__content {max-height: 0;max-width: 0;overflow: hidden;text-align: left;background-color: #f0f8ff;}#sk-container-id-15 div.sk-toggleable__content pre {margin: 0.2em;color: black;border-radius: 0.25em;background-color: #f0f8ff;}#sk-container-id-15 input.sk-toggleable__control:checked~div.sk-toggleable__content {max-height: 200px;max-width: 100%;overflow: auto;}#sk-container-id-15 input.sk-toggleable__control:checked~label.sk-toggleable__label-arrow:before {content: \"▾\";}#sk-container-id-15 div.sk-estimator input.sk-toggleable__control:checked~label.sk-toggleable__label {background-color: #d4ebff;}#sk-container-id-15 div.sk-label input.sk-toggleable__control:checked~label.sk-toggleable__label {background-color: #d4ebff;}#sk-container-id-15 input.sk-hidden--visually {border: 0;clip: rect(1px 1px 1px 1px);clip: rect(1px, 1px, 1px, 1px);height: 1px;margin: -1px;overflow: hidden;padding: 0;position: absolute;width: 1px;}#sk-container-id-15 div.sk-estimator {font-family: monospace;background-color: #f0f8ff;border: 1px dotted black;border-radius: 0.25em;box-sizing: border-box;margin-bottom: 0.5em;}#sk-container-id-15 div.sk-estimator:hover {background-color: #d4ebff;}#sk-container-id-15 div.sk-parallel-item::after {content: \"\";width: 100%;border-bottom: 1px solid gray;flex-grow: 1;}#sk-container-id-15 div.sk-label:hover label.sk-toggleable__label {background-color: #d4ebff;}#sk-container-id-15 div.sk-serial::before {content: \"\";position: absolute;border-left: 1px solid gray;box-sizing: border-box;top: 0;bottom: 0;left: 50%;z-index: 0;}#sk-container-id-15 div.sk-serial {display: flex;flex-direction: column;align-items: center;background-color: white;padding-right: 0.2em;padding-left: 0.2em;position: relative;}#sk-container-id-15 div.sk-item {position: relative;z-index: 1;}#sk-container-id-15 div.sk-parallel {display: flex;align-items: stretch;justify-content: center;background-color: white;position: relative;}#sk-container-id-15 div.sk-item::before, #sk-container-id-15 div.sk-parallel-item::before {content: \"\";position: absolute;border-left: 1px solid gray;box-sizing: border-box;top: 0;bottom: 0;left: 50%;z-index: -1;}#sk-container-id-15 div.sk-parallel-item {display: flex;flex-direction: column;z-index: 1;position: relative;background-color: white;}#sk-container-id-15 div.sk-parallel-item:first-child::after {align-self: flex-end;width: 50%;}#sk-container-id-15 div.sk-parallel-item:last-child::after {align-self: flex-start;width: 50%;}#sk-container-id-15 div.sk-parallel-item:only-child::after {width: 0;}#sk-container-id-15 div.sk-dashed-wrapped {border: 1px dashed gray;margin: 0 0.4em 0.5em 0.4em;box-sizing: border-box;padding-bottom: 0.4em;background-color: white;}#sk-container-id-15 div.sk-label label {font-family: monospace;font-weight: bold;display: inline-block;line-height: 1.2em;}#sk-container-id-15 div.sk-label-container {text-align: center;}#sk-container-id-15 div.sk-container {/* jupyter's `normalize.less` sets `[hidden] { display: none; }` but bootstrap.min.css set `[hidden] { display: none !important; }` so we also need the `!important` here to be able to override the default hidden behavior on the sphinx rendered scikit-learn.org. See: https://github.com/scikit-learn/scikit-learn/issues/21755 */display: inline-block !important;position: relative;}#sk-container-id-15 div.sk-text-repr-fallback {display: none;}</style><div id=\"sk-container-id-15\" class=\"sk-top-container\"><div class=\"sk-text-repr-fallback\"><pre>Pipeline(steps=[(&#x27;col_transformer_ohe&#x27;,\n",
       "                 ColumnTransformer(remainder=&#x27;passthrough&#x27;,\n",
       "                                   transformers=[(&#x27;ohe&#x27;,\n",
       "                                                  OneHotEncoder(handle_unknown=&#x27;ignore&#x27;),\n",
       "                                                  [0, 2, 5]),\n",
       "                                                 (&#x27;ord&#x27;,\n",
       "                                                  OrdinalEncoder(categories=[[&#x27;8 &#x27;\n",
       "                                                                              &#x27;GB&#x27;,\n",
       "                                                                              &#x27;4 &#x27;\n",
       "                                                                              &#x27;GB&#x27;,\n",
       "                                                                              &#x27;32 &#x27;\n",
       "                                                                              &#x27;GB&#x27;,\n",
       "                                                                              &#x27;16 &#x27;\n",
       "                                                                              &#x27;GB&#x27;],\n",
       "                                                                             [32,\n",
       "                                                                              64]]),\n",
       "                                                  [1, 4]),\n",
       "                                                 (&#x27;binarizer&#x27;,\n",
       "                                                  CustomMultiLabelBinarizer(),\n",
       "                                                  [3])])),\n",
       "                (&#x27;estimator&#x27;, LinearRegression())])</pre><b>In a Jupyter environment, please rerun this cell to show the HTML representation or trust the notebook. <br />On GitHub, the HTML representation is unable to render, please try loading this page with nbviewer.org.</b></div><div class=\"sk-container\" hidden><div class=\"sk-item sk-dashed-wrapped\"><div class=\"sk-label-container\"><div class=\"sk-label sk-toggleable\"><input class=\"sk-toggleable__control sk-hidden--visually\" id=\"sk-estimator-id-129\" type=\"checkbox\" ><label for=\"sk-estimator-id-129\" class=\"sk-toggleable__label sk-toggleable__label-arrow\">Pipeline</label><div class=\"sk-toggleable__content\"><pre>Pipeline(steps=[(&#x27;col_transformer_ohe&#x27;,\n",
       "                 ColumnTransformer(remainder=&#x27;passthrough&#x27;,\n",
       "                                   transformers=[(&#x27;ohe&#x27;,\n",
       "                                                  OneHotEncoder(handle_unknown=&#x27;ignore&#x27;),\n",
       "                                                  [0, 2, 5]),\n",
       "                                                 (&#x27;ord&#x27;,\n",
       "                                                  OrdinalEncoder(categories=[[&#x27;8 &#x27;\n",
       "                                                                              &#x27;GB&#x27;,\n",
       "                                                                              &#x27;4 &#x27;\n",
       "                                                                              &#x27;GB&#x27;,\n",
       "                                                                              &#x27;32 &#x27;\n",
       "                                                                              &#x27;GB&#x27;,\n",
       "                                                                              &#x27;16 &#x27;\n",
       "                                                                              &#x27;GB&#x27;],\n",
       "                                                                             [32,\n",
       "                                                                              64]]),\n",
       "                                                  [1, 4]),\n",
       "                                                 (&#x27;binarizer&#x27;,\n",
       "                                                  CustomMultiLabelBinarizer(),\n",
       "                                                  [3])])),\n",
       "                (&#x27;estimator&#x27;, LinearRegression())])</pre></div></div></div><div class=\"sk-serial\"><div class=\"sk-item sk-dashed-wrapped\"><div class=\"sk-label-container\"><div class=\"sk-label sk-toggleable\"><input class=\"sk-toggleable__control sk-hidden--visually\" id=\"sk-estimator-id-130\" type=\"checkbox\" ><label for=\"sk-estimator-id-130\" class=\"sk-toggleable__label sk-toggleable__label-arrow\">col_transformer_ohe: ColumnTransformer</label><div class=\"sk-toggleable__content\"><pre>ColumnTransformer(remainder=&#x27;passthrough&#x27;,\n",
       "                  transformers=[(&#x27;ohe&#x27;, OneHotEncoder(handle_unknown=&#x27;ignore&#x27;),\n",
       "                                 [0, 2, 5]),\n",
       "                                (&#x27;ord&#x27;,\n",
       "                                 OrdinalEncoder(categories=[[&#x27;8 GB&#x27;, &#x27;4 GB&#x27;,\n",
       "                                                             &#x27;32 GB&#x27;, &#x27;16 GB&#x27;],\n",
       "                                                            [32, 64]]),\n",
       "                                 [1, 4]),\n",
       "                                (&#x27;binarizer&#x27;, CustomMultiLabelBinarizer(),\n",
       "                                 [3])])</pre></div></div></div><div class=\"sk-parallel\"><div class=\"sk-parallel-item\"><div class=\"sk-item\"><div class=\"sk-label-container\"><div class=\"sk-label sk-toggleable\"><input class=\"sk-toggleable__control sk-hidden--visually\" id=\"sk-estimator-id-131\" type=\"checkbox\" ><label for=\"sk-estimator-id-131\" class=\"sk-toggleable__label sk-toggleable__label-arrow\">ohe</label><div class=\"sk-toggleable__content\"><pre>[0, 2, 5]</pre></div></div></div><div class=\"sk-serial\"><div class=\"sk-item\"><div class=\"sk-estimator sk-toggleable\"><input class=\"sk-toggleable__control sk-hidden--visually\" id=\"sk-estimator-id-132\" type=\"checkbox\" ><label for=\"sk-estimator-id-132\" class=\"sk-toggleable__label sk-toggleable__label-arrow\">OneHotEncoder</label><div class=\"sk-toggleable__content\"><pre>OneHotEncoder(handle_unknown=&#x27;ignore&#x27;)</pre></div></div></div></div></div></div><div class=\"sk-parallel-item\"><div class=\"sk-item\"><div class=\"sk-label-container\"><div class=\"sk-label sk-toggleable\"><input class=\"sk-toggleable__control sk-hidden--visually\" id=\"sk-estimator-id-133\" type=\"checkbox\" ><label for=\"sk-estimator-id-133\" class=\"sk-toggleable__label sk-toggleable__label-arrow\">ord</label><div class=\"sk-toggleable__content\"><pre>[1, 4]</pre></div></div></div><div class=\"sk-serial\"><div class=\"sk-item\"><div class=\"sk-estimator sk-toggleable\"><input class=\"sk-toggleable__control sk-hidden--visually\" id=\"sk-estimator-id-134\" type=\"checkbox\" ><label for=\"sk-estimator-id-134\" class=\"sk-toggleable__label sk-toggleable__label-arrow\">OrdinalEncoder</label><div class=\"sk-toggleable__content\"><pre>OrdinalEncoder(categories=[[&#x27;8 GB&#x27;, &#x27;4 GB&#x27;, &#x27;32 GB&#x27;, &#x27;16 GB&#x27;], [32, 64]])</pre></div></div></div></div></div></div><div class=\"sk-parallel-item\"><div class=\"sk-item\"><div class=\"sk-label-container\"><div class=\"sk-label sk-toggleable\"><input class=\"sk-toggleable__control sk-hidden--visually\" id=\"sk-estimator-id-135\" type=\"checkbox\" ><label for=\"sk-estimator-id-135\" class=\"sk-toggleable__label sk-toggleable__label-arrow\">binarizer</label><div class=\"sk-toggleable__content\"><pre>[3]</pre></div></div></div><div class=\"sk-serial\"><div class=\"sk-item\"><div class=\"sk-estimator sk-toggleable\"><input class=\"sk-toggleable__control sk-hidden--visually\" id=\"sk-estimator-id-136\" type=\"checkbox\" ><label for=\"sk-estimator-id-136\" class=\"sk-toggleable__label sk-toggleable__label-arrow\">CustomMultiLabelBinarizer</label><div class=\"sk-toggleable__content\"><pre>CustomMultiLabelBinarizer()</pre></div></div></div></div></div></div><div class=\"sk-parallel-item\"><div class=\"sk-item\"><div class=\"sk-label-container\"><div class=\"sk-label sk-toggleable\"><input class=\"sk-toggleable__control sk-hidden--visually\" id=\"sk-estimator-id-137\" type=\"checkbox\" ><label for=\"sk-estimator-id-137\" class=\"sk-toggleable__label sk-toggleable__label-arrow\">remainder</label><div class=\"sk-toggleable__content\"><pre>[]</pre></div></div></div><div class=\"sk-serial\"><div class=\"sk-item\"><div class=\"sk-estimator sk-toggleable\"><input class=\"sk-toggleable__control sk-hidden--visually\" id=\"sk-estimator-id-138\" type=\"checkbox\" ><label for=\"sk-estimator-id-138\" class=\"sk-toggleable__label sk-toggleable__label-arrow\">passthrough</label><div class=\"sk-toggleable__content\"><pre>passthrough</pre></div></div></div></div></div></div></div></div><div class=\"sk-item\"><div class=\"sk-estimator sk-toggleable\"><input class=\"sk-toggleable__control sk-hidden--visually\" id=\"sk-estimator-id-139\" type=\"checkbox\" ><label for=\"sk-estimator-id-139\" class=\"sk-toggleable__label sk-toggleable__label-arrow\">LinearRegression</label><div class=\"sk-toggleable__content\"><pre>LinearRegression()</pre></div></div></div></div></div></div></div>"
      ],
      "text/plain": [
       "Pipeline(steps=[('col_transformer_ohe',\n",
       "                 ColumnTransformer(remainder='passthrough',\n",
       "                                   transformers=[('ohe',\n",
       "                                                  OneHotEncoder(handle_unknown='ignore'),\n",
       "                                                  [0, 2, 5]),\n",
       "                                                 ('ord',\n",
       "                                                  OrdinalEncoder(categories=[['8 '\n",
       "                                                                              'GB',\n",
       "                                                                              '4 '\n",
       "                                                                              'GB',\n",
       "                                                                              '32 '\n",
       "                                                                              'GB',\n",
       "                                                                              '16 '\n",
       "                                                                              'GB'],\n",
       "                                                                             [32,\n",
       "                                                                              64]]),\n",
       "                                                  [1, 4]),\n",
       "                                                 ('binarizer',\n",
       "                                                  CustomMultiLabelBinarizer(),\n",
       "                                                  [3])])),\n",
       "                ('estimator', LinearRegression())])"
      ]
     },
     "execution_count": 157,
     "metadata": {},
     "output_type": "execute_result"
    }
   ],
   "source": [
    "\n",
    "pipeline = Pipeline([\n",
    "    (\"col_transformer_ohe\", ColumnTransformer([\n",
    "        (\"ohe\", OneHotEncoder(handle_unknown=\"ignore\"), [0,2,5]),\n",
    "        (\"ord\", OrdinalEncoder(categories=[['8 GB', '4 GB', '32 GB', '16 GB'], [32, 64]]), [1,4]),\n",
    "        (\"binarizer\", CustomMultiLabelBinarizer(), [3])\n",
    "    ], remainder=\"passthrough\")),\n",
    "    (\"estimator\", LinearRegression())\n",
    "])\n",
    "pipeline.fit(xtrain.values, ytrain.values)"
   ]
  },
  {
   "cell_type": "code",
   "execution_count": 158,
   "id": "7b911cc4-26a0-4a2a-88fa-8b4a98e436f7",
   "metadata": {
    "tags": []
   },
   "outputs": [
    {
     "name": "stderr",
     "output_type": "stream",
     "text": [
      "/mnt/win10/D/virtual-env/ml_env/lib/python3.10/site-packages/sklearn/preprocessing/_label.py:895: UserWarning: unknown class(es) [\"['4 TB SSD']\"] will be ignored\n",
      "  warnings.warn(\n"
     ]
    },
    {
     "data": {
      "text/plain": [
       "-1.5901276372680328e+25"
      ]
     },
     "execution_count": 158,
     "metadata": {},
     "output_type": "execute_result"
    }
   ],
   "source": [
    "pipeline.score(xtest.values, ytest.values)"
   ]
  },
  {
   "cell_type": "code",
   "execution_count": 136,
   "id": "f3fceec7-a42d-46d9-99ff-86d5e14cfc34",
   "metadata": {
    "tags": []
   },
   "outputs": [
    {
     "name": "stderr",
     "output_type": "stream",
     "text": [
      "/mnt/win10/D/virtual-env/ml_env/lib/python3.10/site-packages/sklearn/preprocessing/_label.py:895: UserWarning: unknown class(es) ['512 GB SSD'] will be ignored\n",
      "  warnings.warn(\n"
     ]
    },
    {
     "data": {
      "text/plain": [
       "1827751429885667328"
      ]
     },
     "execution_count": 136,
     "metadata": {},
     "output_type": "execute_result"
    }
   ],
   "source": [
    "sample = [[\"Core i5\", 16, \"Windows 11\", \"512 GB SSD\", 64, \"DDR4\"]]\n",
    "int(pipeline.predict(sample))"
   ]
  },
  {
   "cell_type": "markdown",
   "id": "7552dcc2-503d-436f-9c49-cce734cd94cb",
   "metadata": {},
   "source": [
    "## save model with full data"
   ]
  },
  {
   "cell_type": "code",
   "execution_count": 159,
   "id": "f18f5f9c-0eff-42c7-b674-bd1d033db746",
   "metadata": {
    "tags": []
   },
   "outputs": [
    {
     "data": {
      "text/html": [
       "<style>#sk-container-id-16 {color: black;background-color: white;}#sk-container-id-16 pre{padding: 0;}#sk-container-id-16 div.sk-toggleable {background-color: white;}#sk-container-id-16 label.sk-toggleable__label {cursor: pointer;display: block;width: 100%;margin-bottom: 0;padding: 0.3em;box-sizing: border-box;text-align: center;}#sk-container-id-16 label.sk-toggleable__label-arrow:before {content: \"▸\";float: left;margin-right: 0.25em;color: #696969;}#sk-container-id-16 label.sk-toggleable__label-arrow:hover:before {color: black;}#sk-container-id-16 div.sk-estimator:hover label.sk-toggleable__label-arrow:before {color: black;}#sk-container-id-16 div.sk-toggleable__content {max-height: 0;max-width: 0;overflow: hidden;text-align: left;background-color: #f0f8ff;}#sk-container-id-16 div.sk-toggleable__content pre {margin: 0.2em;color: black;border-radius: 0.25em;background-color: #f0f8ff;}#sk-container-id-16 input.sk-toggleable__control:checked~div.sk-toggleable__content {max-height: 200px;max-width: 100%;overflow: auto;}#sk-container-id-16 input.sk-toggleable__control:checked~label.sk-toggleable__label-arrow:before {content: \"▾\";}#sk-container-id-16 div.sk-estimator input.sk-toggleable__control:checked~label.sk-toggleable__label {background-color: #d4ebff;}#sk-container-id-16 div.sk-label input.sk-toggleable__control:checked~label.sk-toggleable__label {background-color: #d4ebff;}#sk-container-id-16 input.sk-hidden--visually {border: 0;clip: rect(1px 1px 1px 1px);clip: rect(1px, 1px, 1px, 1px);height: 1px;margin: -1px;overflow: hidden;padding: 0;position: absolute;width: 1px;}#sk-container-id-16 div.sk-estimator {font-family: monospace;background-color: #f0f8ff;border: 1px dotted black;border-radius: 0.25em;box-sizing: border-box;margin-bottom: 0.5em;}#sk-container-id-16 div.sk-estimator:hover {background-color: #d4ebff;}#sk-container-id-16 div.sk-parallel-item::after {content: \"\";width: 100%;border-bottom: 1px solid gray;flex-grow: 1;}#sk-container-id-16 div.sk-label:hover label.sk-toggleable__label {background-color: #d4ebff;}#sk-container-id-16 div.sk-serial::before {content: \"\";position: absolute;border-left: 1px solid gray;box-sizing: border-box;top: 0;bottom: 0;left: 50%;z-index: 0;}#sk-container-id-16 div.sk-serial {display: flex;flex-direction: column;align-items: center;background-color: white;padding-right: 0.2em;padding-left: 0.2em;position: relative;}#sk-container-id-16 div.sk-item {position: relative;z-index: 1;}#sk-container-id-16 div.sk-parallel {display: flex;align-items: stretch;justify-content: center;background-color: white;position: relative;}#sk-container-id-16 div.sk-item::before, #sk-container-id-16 div.sk-parallel-item::before {content: \"\";position: absolute;border-left: 1px solid gray;box-sizing: border-box;top: 0;bottom: 0;left: 50%;z-index: -1;}#sk-container-id-16 div.sk-parallel-item {display: flex;flex-direction: column;z-index: 1;position: relative;background-color: white;}#sk-container-id-16 div.sk-parallel-item:first-child::after {align-self: flex-end;width: 50%;}#sk-container-id-16 div.sk-parallel-item:last-child::after {align-self: flex-start;width: 50%;}#sk-container-id-16 div.sk-parallel-item:only-child::after {width: 0;}#sk-container-id-16 div.sk-dashed-wrapped {border: 1px dashed gray;margin: 0 0.4em 0.5em 0.4em;box-sizing: border-box;padding-bottom: 0.4em;background-color: white;}#sk-container-id-16 div.sk-label label {font-family: monospace;font-weight: bold;display: inline-block;line-height: 1.2em;}#sk-container-id-16 div.sk-label-container {text-align: center;}#sk-container-id-16 div.sk-container {/* jupyter's `normalize.less` sets `[hidden] { display: none; }` but bootstrap.min.css set `[hidden] { display: none !important; }` so we also need the `!important` here to be able to override the default hidden behavior on the sphinx rendered scikit-learn.org. See: https://github.com/scikit-learn/scikit-learn/issues/21755 */display: inline-block !important;position: relative;}#sk-container-id-16 div.sk-text-repr-fallback {display: none;}</style><div id=\"sk-container-id-16\" class=\"sk-top-container\"><div class=\"sk-text-repr-fallback\"><pre>Pipeline(steps=[(&#x27;col_transformer_ohe&#x27;,\n",
       "                 ColumnTransformer(remainder=&#x27;passthrough&#x27;,\n",
       "                                   transformers=[(&#x27;ohe&#x27;,\n",
       "                                                  OneHotEncoder(handle_unknown=&#x27;ignore&#x27;),\n",
       "                                                  [0, 1, 2, 4, 5]),\n",
       "                                                 (&#x27;binarizer&#x27;,\n",
       "                                                  CustomMultiLabelBinarizer(),\n",
       "                                                  [3])])),\n",
       "                (&#x27;estimator&#x27;, LinearRegression())])</pre><b>In a Jupyter environment, please rerun this cell to show the HTML representation or trust the notebook. <br />On GitHub, the HTML representation is unable to render, please try loading this page with nbviewer.org.</b></div><div class=\"sk-container\" hidden><div class=\"sk-item sk-dashed-wrapped\"><div class=\"sk-label-container\"><div class=\"sk-label sk-toggleable\"><input class=\"sk-toggleable__control sk-hidden--visually\" id=\"sk-estimator-id-140\" type=\"checkbox\" ><label for=\"sk-estimator-id-140\" class=\"sk-toggleable__label sk-toggleable__label-arrow\">Pipeline</label><div class=\"sk-toggleable__content\"><pre>Pipeline(steps=[(&#x27;col_transformer_ohe&#x27;,\n",
       "                 ColumnTransformer(remainder=&#x27;passthrough&#x27;,\n",
       "                                   transformers=[(&#x27;ohe&#x27;,\n",
       "                                                  OneHotEncoder(handle_unknown=&#x27;ignore&#x27;),\n",
       "                                                  [0, 1, 2, 4, 5]),\n",
       "                                                 (&#x27;binarizer&#x27;,\n",
       "                                                  CustomMultiLabelBinarizer(),\n",
       "                                                  [3])])),\n",
       "                (&#x27;estimator&#x27;, LinearRegression())])</pre></div></div></div><div class=\"sk-serial\"><div class=\"sk-item sk-dashed-wrapped\"><div class=\"sk-label-container\"><div class=\"sk-label sk-toggleable\"><input class=\"sk-toggleable__control sk-hidden--visually\" id=\"sk-estimator-id-141\" type=\"checkbox\" ><label for=\"sk-estimator-id-141\" class=\"sk-toggleable__label sk-toggleable__label-arrow\">col_transformer_ohe: ColumnTransformer</label><div class=\"sk-toggleable__content\"><pre>ColumnTransformer(remainder=&#x27;passthrough&#x27;,\n",
       "                  transformers=[(&#x27;ohe&#x27;, OneHotEncoder(handle_unknown=&#x27;ignore&#x27;),\n",
       "                                 [0, 1, 2, 4, 5]),\n",
       "                                (&#x27;binarizer&#x27;, CustomMultiLabelBinarizer(),\n",
       "                                 [3])])</pre></div></div></div><div class=\"sk-parallel\"><div class=\"sk-parallel-item\"><div class=\"sk-item\"><div class=\"sk-label-container\"><div class=\"sk-label sk-toggleable\"><input class=\"sk-toggleable__control sk-hidden--visually\" id=\"sk-estimator-id-142\" type=\"checkbox\" ><label for=\"sk-estimator-id-142\" class=\"sk-toggleable__label sk-toggleable__label-arrow\">ohe</label><div class=\"sk-toggleable__content\"><pre>[0, 1, 2, 4, 5]</pre></div></div></div><div class=\"sk-serial\"><div class=\"sk-item\"><div class=\"sk-estimator sk-toggleable\"><input class=\"sk-toggleable__control sk-hidden--visually\" id=\"sk-estimator-id-143\" type=\"checkbox\" ><label for=\"sk-estimator-id-143\" class=\"sk-toggleable__label sk-toggleable__label-arrow\">OneHotEncoder</label><div class=\"sk-toggleable__content\"><pre>OneHotEncoder(handle_unknown=&#x27;ignore&#x27;)</pre></div></div></div></div></div></div><div class=\"sk-parallel-item\"><div class=\"sk-item\"><div class=\"sk-label-container\"><div class=\"sk-label sk-toggleable\"><input class=\"sk-toggleable__control sk-hidden--visually\" id=\"sk-estimator-id-144\" type=\"checkbox\" ><label for=\"sk-estimator-id-144\" class=\"sk-toggleable__label sk-toggleable__label-arrow\">binarizer</label><div class=\"sk-toggleable__content\"><pre>[3]</pre></div></div></div><div class=\"sk-serial\"><div class=\"sk-item\"><div class=\"sk-estimator sk-toggleable\"><input class=\"sk-toggleable__control sk-hidden--visually\" id=\"sk-estimator-id-145\" type=\"checkbox\" ><label for=\"sk-estimator-id-145\" class=\"sk-toggleable__label sk-toggleable__label-arrow\">CustomMultiLabelBinarizer</label><div class=\"sk-toggleable__content\"><pre>CustomMultiLabelBinarizer()</pre></div></div></div></div></div></div><div class=\"sk-parallel-item\"><div class=\"sk-item\"><div class=\"sk-label-container\"><div class=\"sk-label sk-toggleable\"><input class=\"sk-toggleable__control sk-hidden--visually\" id=\"sk-estimator-id-146\" type=\"checkbox\" ><label for=\"sk-estimator-id-146\" class=\"sk-toggleable__label sk-toggleable__label-arrow\">remainder</label><div class=\"sk-toggleable__content\"><pre>[]</pre></div></div></div><div class=\"sk-serial\"><div class=\"sk-item\"><div class=\"sk-estimator sk-toggleable\"><input class=\"sk-toggleable__control sk-hidden--visually\" id=\"sk-estimator-id-147\" type=\"checkbox\" ><label for=\"sk-estimator-id-147\" class=\"sk-toggleable__label sk-toggleable__label-arrow\">passthrough</label><div class=\"sk-toggleable__content\"><pre>passthrough</pre></div></div></div></div></div></div></div></div><div class=\"sk-item\"><div class=\"sk-estimator sk-toggleable\"><input class=\"sk-toggleable__control sk-hidden--visually\" id=\"sk-estimator-id-148\" type=\"checkbox\" ><label for=\"sk-estimator-id-148\" class=\"sk-toggleable__label sk-toggleable__label-arrow\">LinearRegression</label><div class=\"sk-toggleable__content\"><pre>LinearRegression()</pre></div></div></div></div></div></div></div>"
      ],
      "text/plain": [
       "Pipeline(steps=[('col_transformer_ohe',\n",
       "                 ColumnTransformer(remainder='passthrough',\n",
       "                                   transformers=[('ohe',\n",
       "                                                  OneHotEncoder(handle_unknown='ignore'),\n",
       "                                                  [0, 1, 2, 4, 5]),\n",
       "                                                 ('binarizer',\n",
       "                                                  CustomMultiLabelBinarizer(),\n",
       "                                                  [3])])),\n",
       "                ('estimator', LinearRegression())])"
      ]
     },
     "execution_count": 159,
     "metadata": {},
     "output_type": "execute_result"
    }
   ],
   "source": [
    "pipeline = Pipeline([\n",
    "    (\"col_transformer_ohe\", ColumnTransformer([\n",
    "        (\"ohe\", OneHotEncoder(handle_unknown=\"ignore\"), [0,1,2,4,5]),\n",
    "        (\"binarizer\", CustomMultiLabelBinarizer(), [3])\n",
    "    ], remainder=\"passthrough\")),\n",
    "    (\"estimator\", LinearRegression())\n",
    "])\n",
    "\n",
    "X,y = data.drop(\"MRP\", axis=1), data.MRP\n",
    "pipeline.fit(X.values,y.values)"
   ]
  },
  {
   "cell_type": "code",
   "execution_count": 166,
   "id": "ec390cf7-7096-40d7-88a8-4d9444b2c895",
   "metadata": {
    "tags": []
   },
   "outputs": [
    {
     "data": {
      "text/plain": [
       "58624.0"
      ]
     },
     "execution_count": 166,
     "metadata": {},
     "output_type": "execute_result"
    }
   ],
   "source": [
    "pipeline.predict([['AMD Ryzen 5 Hexa Core Processor', '8 GB', 'Windows 10',\n",
    "       \"['512 GB SSD']\", 64, 'DDR4']])[0]"
   ]
  },
  {
   "cell_type": "code",
   "execution_count": 167,
   "id": "91302b08-7448-4b63-9ccb-429b8611180f",
   "metadata": {
    "tags": []
   },
   "outputs": [
    {
     "data": {
      "text/plain": [
       "['../model/model.obj']"
      ]
     },
     "execution_count": 167,
     "metadata": {},
     "output_type": "execute_result"
    }
   ],
   "source": [
    "joblib.dump(pipeline, \"../model/model.obj\")"
   ]
  },
  {
   "cell_type": "markdown",
   "id": "3b6a7ce0-0903-4f14-ac56-dfd9246a89ee",
   "metadata": {
    "tags": []
   },
   "source": [
    "# Laptop Recommendation"
   ]
  },
  {
   "cell_type": "code",
   "execution_count": 213,
   "id": "cf6692bb-bdae-40f3-b643-c56042bac261",
   "metadata": {
    "tags": []
   },
   "outputs": [
    {
     "data": {
      "text/html": [
       "<div>\n",
       "<style scoped>\n",
       "    .dataframe tbody tr th:only-of-type {\n",
       "        vertical-align: middle;\n",
       "    }\n",
       "\n",
       "    .dataframe tbody tr th {\n",
       "        vertical-align: top;\n",
       "    }\n",
       "\n",
       "    .dataframe thead th {\n",
       "        text-align: right;\n",
       "    }\n",
       "</style>\n",
       "<table border=\"1\" class=\"dataframe\">\n",
       "  <thead>\n",
       "    <tr style=\"text-align: right;\">\n",
       "      <th></th>\n",
       "      <th>Rating</th>\n",
       "      <th>MRP</th>\n",
       "      <th>Processor</th>\n",
       "      <th>RAM</th>\n",
       "      <th>OS</th>\n",
       "      <th>Storage</th>\n",
       "      <th>OS_arch</th>\n",
       "      <th>RAM_Type</th>\n",
       "    </tr>\n",
       "  </thead>\n",
       "  <tbody>\n",
       "    <tr>\n",
       "      <th>0</th>\n",
       "      <td>4.2</td>\n",
       "      <td>25490.0</td>\n",
       "      <td>Intel Celeron Dual Core Processor</td>\n",
       "      <td>4 GB</td>\n",
       "      <td>Windows 11</td>\n",
       "      <td>(512 GB SSD,)</td>\n",
       "      <td>64</td>\n",
       "      <td>LPDDR4</td>\n",
       "    </tr>\n",
       "    <tr>\n",
       "      <th>1</th>\n",
       "      <td>3.8</td>\n",
       "      <td>22490.0</td>\n",
       "      <td>Intel Core i5 Processor</td>\n",
       "      <td>4 GB</td>\n",
       "      <td>Windows 11</td>\n",
       "      <td>(512 GB SSD,)</td>\n",
       "      <td>64</td>\n",
       "      <td>LPDDR4X</td>\n",
       "    </tr>\n",
       "    <tr>\n",
       "      <th>2</th>\n",
       "      <td>4.1</td>\n",
       "      <td>25685.0</td>\n",
       "      <td>Intel Celeron Dual Core Processor</td>\n",
       "      <td>8 GB</td>\n",
       "      <td>Windows 11</td>\n",
       "      <td>(256 GB SSD,)</td>\n",
       "      <td>64</td>\n",
       "      <td>DDR4</td>\n",
       "    </tr>\n",
       "    <tr>\n",
       "      <th>3</th>\n",
       "      <td>4.4</td>\n",
       "      <td>51990.0</td>\n",
       "      <td>Intel Core i5 Processor</td>\n",
       "      <td>8 GB</td>\n",
       "      <td>Windows 11</td>\n",
       "      <td>(512 GB SSD,)</td>\n",
       "      <td>64</td>\n",
       "      <td>DDR4</td>\n",
       "    </tr>\n",
       "    <tr>\n",
       "      <th>4</th>\n",
       "      <td>4.2</td>\n",
       "      <td>38990.0</td>\n",
       "      <td>Intel Core i3 Processor</td>\n",
       "      <td>8 GB</td>\n",
       "      <td>Windows 11</td>\n",
       "      <td>(512 GB SSD,)</td>\n",
       "      <td>64</td>\n",
       "      <td>DDR4</td>\n",
       "    </tr>\n",
       "  </tbody>\n",
       "</table>\n",
       "</div>"
      ],
      "text/plain": [
       "   Rating      MRP                          Processor   RAM          OS  \\\n",
       "0     4.2  25490.0  Intel Celeron Dual Core Processor  4 GB  Windows 11   \n",
       "1     3.8  22490.0            Intel Core i5 Processor  4 GB  Windows 11   \n",
       "2     4.1  25685.0  Intel Celeron Dual Core Processor  8 GB  Windows 11   \n",
       "3     4.4  51990.0            Intel Core i5 Processor  8 GB  Windows 11   \n",
       "4     4.2  38990.0            Intel Core i3 Processor  8 GB  Windows 11   \n",
       "\n",
       "         Storage  OS_arch RAM_Type  \n",
       "0  (512 GB SSD,)       64   LPDDR4  \n",
       "1  (512 GB SSD,)       64  LPDDR4X  \n",
       "2  (256 GB SSD,)       64     DDR4  \n",
       "3  (512 GB SSD,)       64     DDR4  \n",
       "4  (512 GB SSD,)       64     DDR4  "
      ]
     },
     "execution_count": 213,
     "metadata": {},
     "output_type": "execute_result"
    }
   ],
   "source": [
    "data.drop(\"Brand\", axis=1, inplace=True)\n",
    "data.head()"
   ]
  },
  {
   "cell_type": "code",
   "execution_count": 214,
   "id": "62065b8d-5c6c-4122-ba83-b685ea9587ce",
   "metadata": {
    "tags": []
   },
   "outputs": [
    {
     "data": {
      "text/plain": [
       "[(0, 'Rating'),\n",
       " (1, 'MRP'),\n",
       " (2, 'Processor'),\n",
       " (3, 'RAM'),\n",
       " (4, 'OS'),\n",
       " (5, 'Storage'),\n",
       " (6, 'OS_arch'),\n",
       " (7, 'RAM_Type')]"
      ]
     },
     "execution_count": 214,
     "metadata": {},
     "output_type": "execute_result"
    }
   ],
   "source": [
    "list(enumerate(data.columns))"
   ]
  },
  {
   "cell_type": "code",
   "execution_count": 215,
   "id": "e5bbd74a-ef84-404a-8caa-f76301140be9",
   "metadata": {
    "tags": []
   },
   "outputs": [
    {
     "data": {
      "text/html": [
       "<style>#sk-container-id-19 {color: black;background-color: white;}#sk-container-id-19 pre{padding: 0;}#sk-container-id-19 div.sk-toggleable {background-color: white;}#sk-container-id-19 label.sk-toggleable__label {cursor: pointer;display: block;width: 100%;margin-bottom: 0;padding: 0.3em;box-sizing: border-box;text-align: center;}#sk-container-id-19 label.sk-toggleable__label-arrow:before {content: \"▸\";float: left;margin-right: 0.25em;color: #696969;}#sk-container-id-19 label.sk-toggleable__label-arrow:hover:before {color: black;}#sk-container-id-19 div.sk-estimator:hover label.sk-toggleable__label-arrow:before {color: black;}#sk-container-id-19 div.sk-toggleable__content {max-height: 0;max-width: 0;overflow: hidden;text-align: left;background-color: #f0f8ff;}#sk-container-id-19 div.sk-toggleable__content pre {margin: 0.2em;color: black;border-radius: 0.25em;background-color: #f0f8ff;}#sk-container-id-19 input.sk-toggleable__control:checked~div.sk-toggleable__content {max-height: 200px;max-width: 100%;overflow: auto;}#sk-container-id-19 input.sk-toggleable__control:checked~label.sk-toggleable__label-arrow:before {content: \"▾\";}#sk-container-id-19 div.sk-estimator input.sk-toggleable__control:checked~label.sk-toggleable__label {background-color: #d4ebff;}#sk-container-id-19 div.sk-label input.sk-toggleable__control:checked~label.sk-toggleable__label {background-color: #d4ebff;}#sk-container-id-19 input.sk-hidden--visually {border: 0;clip: rect(1px 1px 1px 1px);clip: rect(1px, 1px, 1px, 1px);height: 1px;margin: -1px;overflow: hidden;padding: 0;position: absolute;width: 1px;}#sk-container-id-19 div.sk-estimator {font-family: monospace;background-color: #f0f8ff;border: 1px dotted black;border-radius: 0.25em;box-sizing: border-box;margin-bottom: 0.5em;}#sk-container-id-19 div.sk-estimator:hover {background-color: #d4ebff;}#sk-container-id-19 div.sk-parallel-item::after {content: \"\";width: 100%;border-bottom: 1px solid gray;flex-grow: 1;}#sk-container-id-19 div.sk-label:hover label.sk-toggleable__label {background-color: #d4ebff;}#sk-container-id-19 div.sk-serial::before {content: \"\";position: absolute;border-left: 1px solid gray;box-sizing: border-box;top: 0;bottom: 0;left: 50%;z-index: 0;}#sk-container-id-19 div.sk-serial {display: flex;flex-direction: column;align-items: center;background-color: white;padding-right: 0.2em;padding-left: 0.2em;position: relative;}#sk-container-id-19 div.sk-item {position: relative;z-index: 1;}#sk-container-id-19 div.sk-parallel {display: flex;align-items: stretch;justify-content: center;background-color: white;position: relative;}#sk-container-id-19 div.sk-item::before, #sk-container-id-19 div.sk-parallel-item::before {content: \"\";position: absolute;border-left: 1px solid gray;box-sizing: border-box;top: 0;bottom: 0;left: 50%;z-index: -1;}#sk-container-id-19 div.sk-parallel-item {display: flex;flex-direction: column;z-index: 1;position: relative;background-color: white;}#sk-container-id-19 div.sk-parallel-item:first-child::after {align-self: flex-end;width: 50%;}#sk-container-id-19 div.sk-parallel-item:last-child::after {align-self: flex-start;width: 50%;}#sk-container-id-19 div.sk-parallel-item:only-child::after {width: 0;}#sk-container-id-19 div.sk-dashed-wrapped {border: 1px dashed gray;margin: 0 0.4em 0.5em 0.4em;box-sizing: border-box;padding-bottom: 0.4em;background-color: white;}#sk-container-id-19 div.sk-label label {font-family: monospace;font-weight: bold;display: inline-block;line-height: 1.2em;}#sk-container-id-19 div.sk-label-container {text-align: center;}#sk-container-id-19 div.sk-container {/* jupyter's `normalize.less` sets `[hidden] { display: none; }` but bootstrap.min.css set `[hidden] { display: none !important; }` so we also need the `!important` here to be able to override the default hidden behavior on the sphinx rendered scikit-learn.org. See: https://github.com/scikit-learn/scikit-learn/issues/21755 */display: inline-block !important;position: relative;}#sk-container-id-19 div.sk-text-repr-fallback {display: none;}</style><div id=\"sk-container-id-19\" class=\"sk-top-container\"><div class=\"sk-text-repr-fallback\"><pre>Pipeline(steps=[(&#x27;preprocessor&#x27;,\n",
       "                 ColumnTransformer(remainder=&#x27;passthrough&#x27;,\n",
       "                                   transformers=[(&#x27;ohe&#x27;,\n",
       "                                                  OneHotEncoder(handle_unknown=&#x27;ignore&#x27;),\n",
       "                                                  [2, 4, 7]),\n",
       "                                                 (&#x27;ord&#x27;,\n",
       "                                                  OrdinalEncoder(categories=[[&#x27;8 &#x27;\n",
       "                                                                              &#x27;GB&#x27;,\n",
       "                                                                              &#x27;4 &#x27;\n",
       "                                                                              &#x27;GB&#x27;,\n",
       "                                                                              &#x27;32 &#x27;\n",
       "                                                                              &#x27;GB&#x27;,\n",
       "                                                                              &#x27;16 &#x27;\n",
       "                                                                              &#x27;GB&#x27;],\n",
       "                                                                             [32,\n",
       "                                                                              64]]),\n",
       "                                                  [3, 6]),\n",
       "                                                 (&#x27;binarizer&#x27;,\n",
       "                                                  CustomMultiLabelBinarizer(),\n",
       "                                                  [5]),\n",
       "                                                 (&#x27;sc&#x27;,\n",
       "                                                  StandardScaler(with_mean=False),\n",
       "                                                  [0, 1])])),\n",
       "                (&#x27;recommender&#x27;, KMeans(n_init=&#x27;auto&#x27;))])</pre><b>In a Jupyter environment, please rerun this cell to show the HTML representation or trust the notebook. <br />On GitHub, the HTML representation is unable to render, please try loading this page with nbviewer.org.</b></div><div class=\"sk-container\" hidden><div class=\"sk-item sk-dashed-wrapped\"><div class=\"sk-label-container\"><div class=\"sk-label sk-toggleable\"><input class=\"sk-toggleable__control sk-hidden--visually\" id=\"sk-estimator-id-175\" type=\"checkbox\" ><label for=\"sk-estimator-id-175\" class=\"sk-toggleable__label sk-toggleable__label-arrow\">Pipeline</label><div class=\"sk-toggleable__content\"><pre>Pipeline(steps=[(&#x27;preprocessor&#x27;,\n",
       "                 ColumnTransformer(remainder=&#x27;passthrough&#x27;,\n",
       "                                   transformers=[(&#x27;ohe&#x27;,\n",
       "                                                  OneHotEncoder(handle_unknown=&#x27;ignore&#x27;),\n",
       "                                                  [2, 4, 7]),\n",
       "                                                 (&#x27;ord&#x27;,\n",
       "                                                  OrdinalEncoder(categories=[[&#x27;8 &#x27;\n",
       "                                                                              &#x27;GB&#x27;,\n",
       "                                                                              &#x27;4 &#x27;\n",
       "                                                                              &#x27;GB&#x27;,\n",
       "                                                                              &#x27;32 &#x27;\n",
       "                                                                              &#x27;GB&#x27;,\n",
       "                                                                              &#x27;16 &#x27;\n",
       "                                                                              &#x27;GB&#x27;],\n",
       "                                                                             [32,\n",
       "                                                                              64]]),\n",
       "                                                  [3, 6]),\n",
       "                                                 (&#x27;binarizer&#x27;,\n",
       "                                                  CustomMultiLabelBinarizer(),\n",
       "                                                  [5]),\n",
       "                                                 (&#x27;sc&#x27;,\n",
       "                                                  StandardScaler(with_mean=False),\n",
       "                                                  [0, 1])])),\n",
       "                (&#x27;recommender&#x27;, KMeans(n_init=&#x27;auto&#x27;))])</pre></div></div></div><div class=\"sk-serial\"><div class=\"sk-item sk-dashed-wrapped\"><div class=\"sk-label-container\"><div class=\"sk-label sk-toggleable\"><input class=\"sk-toggleable__control sk-hidden--visually\" id=\"sk-estimator-id-176\" type=\"checkbox\" ><label for=\"sk-estimator-id-176\" class=\"sk-toggleable__label sk-toggleable__label-arrow\">preprocessor: ColumnTransformer</label><div class=\"sk-toggleable__content\"><pre>ColumnTransformer(remainder=&#x27;passthrough&#x27;,\n",
       "                  transformers=[(&#x27;ohe&#x27;, OneHotEncoder(handle_unknown=&#x27;ignore&#x27;),\n",
       "                                 [2, 4, 7]),\n",
       "                                (&#x27;ord&#x27;,\n",
       "                                 OrdinalEncoder(categories=[[&#x27;8 GB&#x27;, &#x27;4 GB&#x27;,\n",
       "                                                             &#x27;32 GB&#x27;, &#x27;16 GB&#x27;],\n",
       "                                                            [32, 64]]),\n",
       "                                 [3, 6]),\n",
       "                                (&#x27;binarizer&#x27;, CustomMultiLabelBinarizer(), [5]),\n",
       "                                (&#x27;sc&#x27;, StandardScaler(with_mean=False),\n",
       "                                 [0, 1])])</pre></div></div></div><div class=\"sk-parallel\"><div class=\"sk-parallel-item\"><div class=\"sk-item\"><div class=\"sk-label-container\"><div class=\"sk-label sk-toggleable\"><input class=\"sk-toggleable__control sk-hidden--visually\" id=\"sk-estimator-id-177\" type=\"checkbox\" ><label for=\"sk-estimator-id-177\" class=\"sk-toggleable__label sk-toggleable__label-arrow\">ohe</label><div class=\"sk-toggleable__content\"><pre>[2, 4, 7]</pre></div></div></div><div class=\"sk-serial\"><div class=\"sk-item\"><div class=\"sk-estimator sk-toggleable\"><input class=\"sk-toggleable__control sk-hidden--visually\" id=\"sk-estimator-id-178\" type=\"checkbox\" ><label for=\"sk-estimator-id-178\" class=\"sk-toggleable__label sk-toggleable__label-arrow\">OneHotEncoder</label><div class=\"sk-toggleable__content\"><pre>OneHotEncoder(handle_unknown=&#x27;ignore&#x27;)</pre></div></div></div></div></div></div><div class=\"sk-parallel-item\"><div class=\"sk-item\"><div class=\"sk-label-container\"><div class=\"sk-label sk-toggleable\"><input class=\"sk-toggleable__control sk-hidden--visually\" id=\"sk-estimator-id-179\" type=\"checkbox\" ><label for=\"sk-estimator-id-179\" class=\"sk-toggleable__label sk-toggleable__label-arrow\">ord</label><div class=\"sk-toggleable__content\"><pre>[3, 6]</pre></div></div></div><div class=\"sk-serial\"><div class=\"sk-item\"><div class=\"sk-estimator sk-toggleable\"><input class=\"sk-toggleable__control sk-hidden--visually\" id=\"sk-estimator-id-180\" type=\"checkbox\" ><label for=\"sk-estimator-id-180\" class=\"sk-toggleable__label sk-toggleable__label-arrow\">OrdinalEncoder</label><div class=\"sk-toggleable__content\"><pre>OrdinalEncoder(categories=[[&#x27;8 GB&#x27;, &#x27;4 GB&#x27;, &#x27;32 GB&#x27;, &#x27;16 GB&#x27;], [32, 64]])</pre></div></div></div></div></div></div><div class=\"sk-parallel-item\"><div class=\"sk-item\"><div class=\"sk-label-container\"><div class=\"sk-label sk-toggleable\"><input class=\"sk-toggleable__control sk-hidden--visually\" id=\"sk-estimator-id-181\" type=\"checkbox\" ><label for=\"sk-estimator-id-181\" class=\"sk-toggleable__label sk-toggleable__label-arrow\">binarizer</label><div class=\"sk-toggleable__content\"><pre>[5]</pre></div></div></div><div class=\"sk-serial\"><div class=\"sk-item\"><div class=\"sk-estimator sk-toggleable\"><input class=\"sk-toggleable__control sk-hidden--visually\" id=\"sk-estimator-id-182\" type=\"checkbox\" ><label for=\"sk-estimator-id-182\" class=\"sk-toggleable__label sk-toggleable__label-arrow\">CustomMultiLabelBinarizer</label><div class=\"sk-toggleable__content\"><pre>CustomMultiLabelBinarizer()</pre></div></div></div></div></div></div><div class=\"sk-parallel-item\"><div class=\"sk-item\"><div class=\"sk-label-container\"><div class=\"sk-label sk-toggleable\"><input class=\"sk-toggleable__control sk-hidden--visually\" id=\"sk-estimator-id-183\" type=\"checkbox\" ><label for=\"sk-estimator-id-183\" class=\"sk-toggleable__label sk-toggleable__label-arrow\">sc</label><div class=\"sk-toggleable__content\"><pre>[0, 1]</pre></div></div></div><div class=\"sk-serial\"><div class=\"sk-item\"><div class=\"sk-estimator sk-toggleable\"><input class=\"sk-toggleable__control sk-hidden--visually\" id=\"sk-estimator-id-184\" type=\"checkbox\" ><label for=\"sk-estimator-id-184\" class=\"sk-toggleable__label sk-toggleable__label-arrow\">StandardScaler</label><div class=\"sk-toggleable__content\"><pre>StandardScaler(with_mean=False)</pre></div></div></div></div></div></div><div class=\"sk-parallel-item\"><div class=\"sk-item\"><div class=\"sk-label-container\"><div class=\"sk-label sk-toggleable\"><input class=\"sk-toggleable__control sk-hidden--visually\" id=\"sk-estimator-id-185\" type=\"checkbox\" ><label for=\"sk-estimator-id-185\" class=\"sk-toggleable__label sk-toggleable__label-arrow\">remainder</label><div class=\"sk-toggleable__content\"><pre>[]</pre></div></div></div><div class=\"sk-serial\"><div class=\"sk-item\"><div class=\"sk-estimator sk-toggleable\"><input class=\"sk-toggleable__control sk-hidden--visually\" id=\"sk-estimator-id-186\" type=\"checkbox\" ><label for=\"sk-estimator-id-186\" class=\"sk-toggleable__label sk-toggleable__label-arrow\">passthrough</label><div class=\"sk-toggleable__content\"><pre>passthrough</pre></div></div></div></div></div></div></div></div><div class=\"sk-item\"><div class=\"sk-estimator sk-toggleable\"><input class=\"sk-toggleable__control sk-hidden--visually\" id=\"sk-estimator-id-187\" type=\"checkbox\" ><label for=\"sk-estimator-id-187\" class=\"sk-toggleable__label sk-toggleable__label-arrow\">KMeans</label><div class=\"sk-toggleable__content\"><pre>KMeans(n_init=&#x27;auto&#x27;)</pre></div></div></div></div></div></div></div>"
      ],
      "text/plain": [
       "Pipeline(steps=[('preprocessor',\n",
       "                 ColumnTransformer(remainder='passthrough',\n",
       "                                   transformers=[('ohe',\n",
       "                                                  OneHotEncoder(handle_unknown='ignore'),\n",
       "                                                  [2, 4, 7]),\n",
       "                                                 ('ord',\n",
       "                                                  OrdinalEncoder(categories=[['8 '\n",
       "                                                                              'GB',\n",
       "                                                                              '4 '\n",
       "                                                                              'GB',\n",
       "                                                                              '32 '\n",
       "                                                                              'GB',\n",
       "                                                                              '16 '\n",
       "                                                                              'GB'],\n",
       "                                                                             [32,\n",
       "                                                                              64]]),\n",
       "                                                  [3, 6]),\n",
       "                                                 ('binarizer',\n",
       "                                                  CustomMultiLabelBinarizer(),\n",
       "                                                  [5]),\n",
       "                                                 ('sc',\n",
       "                                                  StandardScaler(with_mean=False),\n",
       "                                                  [0, 1])])),\n",
       "                ('recommender', KMeans(n_init='auto'))])"
      ]
     },
     "execution_count": 215,
     "metadata": {},
     "output_type": "execute_result"
    }
   ],
   "source": [
    "pipeline = Pipeline([\n",
    "    (\"preprocessor\", ColumnTransformer([\n",
    "        (\"ohe\", OneHotEncoder(handle_unknown=\"ignore\"), [2, 4, 7]),\n",
    "        (\"ord\", OrdinalEncoder(categories=[['8 GB', '4 GB', '32 GB', '16 GB'], [32, 64]]), [3, 6]),\n",
    "        (\"binarizer\", CustomMultiLabelBinarizer(), [5]),\n",
    "        (\"sc\", StandardScaler(with_mean=False), [0, 1])\n",
    "    ], remainder=\"passthrough\")),\n",
    "    (\"recommender\", KMeans(n_init=\"auto\"))\n",
    "])\n",
    "\n",
    "pipeline.fit(data.values)"
   ]
  },
  {
   "cell_type": "code",
   "execution_count": 216,
   "id": "c0218fe9-0c6f-41bd-a2d0-54caa925df4a",
   "metadata": {
    "tags": []
   },
   "outputs": [
    {
     "data": {
      "text/html": [
       "<div>\n",
       "<style scoped>\n",
       "    .dataframe tbody tr th:only-of-type {\n",
       "        vertical-align: middle;\n",
       "    }\n",
       "\n",
       "    .dataframe tbody tr th {\n",
       "        vertical-align: top;\n",
       "    }\n",
       "\n",
       "    .dataframe thead th {\n",
       "        text-align: right;\n",
       "    }\n",
       "</style>\n",
       "<table border=\"1\" class=\"dataframe\">\n",
       "  <thead>\n",
       "    <tr style=\"text-align: right;\">\n",
       "      <th></th>\n",
       "      <th>Rating</th>\n",
       "      <th>MRP</th>\n",
       "      <th>Processor</th>\n",
       "      <th>RAM</th>\n",
       "      <th>OS</th>\n",
       "      <th>Storage</th>\n",
       "      <th>OS_arch</th>\n",
       "      <th>RAM_Type</th>\n",
       "      <th>cluster</th>\n",
       "    </tr>\n",
       "  </thead>\n",
       "  <tbody>\n",
       "    <tr>\n",
       "      <th>0</th>\n",
       "      <td>4.2</td>\n",
       "      <td>25490.0</td>\n",
       "      <td>Intel Celeron Dual Core Processor</td>\n",
       "      <td>4 GB</td>\n",
       "      <td>Windows 11</td>\n",
       "      <td>(512 GB SSD,)</td>\n",
       "      <td>64</td>\n",
       "      <td>LPDDR4</td>\n",
       "      <td>3</td>\n",
       "    </tr>\n",
       "    <tr>\n",
       "      <th>1</th>\n",
       "      <td>3.8</td>\n",
       "      <td>22490.0</td>\n",
       "      <td>Intel Core i5 Processor</td>\n",
       "      <td>4 GB</td>\n",
       "      <td>Windows 11</td>\n",
       "      <td>(512 GB SSD,)</td>\n",
       "      <td>64</td>\n",
       "      <td>LPDDR4X</td>\n",
       "      <td>6</td>\n",
       "    </tr>\n",
       "    <tr>\n",
       "      <th>2</th>\n",
       "      <td>4.1</td>\n",
       "      <td>25685.0</td>\n",
       "      <td>Intel Celeron Dual Core Processor</td>\n",
       "      <td>8 GB</td>\n",
       "      <td>Windows 11</td>\n",
       "      <td>(256 GB SSD,)</td>\n",
       "      <td>64</td>\n",
       "      <td>DDR4</td>\n",
       "      <td>1</td>\n",
       "    </tr>\n",
       "    <tr>\n",
       "      <th>3</th>\n",
       "      <td>4.4</td>\n",
       "      <td>51990.0</td>\n",
       "      <td>Intel Core i5 Processor</td>\n",
       "      <td>8 GB</td>\n",
       "      <td>Windows 11</td>\n",
       "      <td>(512 GB SSD,)</td>\n",
       "      <td>64</td>\n",
       "      <td>DDR4</td>\n",
       "      <td>5</td>\n",
       "    </tr>\n",
       "    <tr>\n",
       "      <th>4</th>\n",
       "      <td>4.2</td>\n",
       "      <td>38990.0</td>\n",
       "      <td>Intel Core i3 Processor</td>\n",
       "      <td>8 GB</td>\n",
       "      <td>Windows 11</td>\n",
       "      <td>(512 GB SSD,)</td>\n",
       "      <td>64</td>\n",
       "      <td>DDR4</td>\n",
       "      <td>5</td>\n",
       "    </tr>\n",
       "    <tr>\n",
       "      <th>...</th>\n",
       "      <td>...</td>\n",
       "      <td>...</td>\n",
       "      <td>...</td>\n",
       "      <td>...</td>\n",
       "      <td>...</td>\n",
       "      <td>...</td>\n",
       "      <td>...</td>\n",
       "      <td>...</td>\n",
       "      <td>...</td>\n",
       "    </tr>\n",
       "    <tr>\n",
       "      <th>715</th>\n",
       "      <td>4.2</td>\n",
       "      <td>33639.0</td>\n",
       "      <td>Intel Core i3 Processor</td>\n",
       "      <td>8 GB</td>\n",
       "      <td>Windows 11</td>\n",
       "      <td>(256 GB SSD,)</td>\n",
       "      <td>64</td>\n",
       "      <td>DDR4</td>\n",
       "      <td>1</td>\n",
       "    </tr>\n",
       "    <tr>\n",
       "      <th>716</th>\n",
       "      <td>4.2</td>\n",
       "      <td>46990.0</td>\n",
       "      <td>AMD Ryzen 5 Quad Core Processor</td>\n",
       "      <td>8 GB</td>\n",
       "      <td>Windows 11</td>\n",
       "      <td>(512 GB SSD,)</td>\n",
       "      <td>64</td>\n",
       "      <td>LPDDR5</td>\n",
       "      <td>5</td>\n",
       "    </tr>\n",
       "    <tr>\n",
       "      <th>717</th>\n",
       "      <td>4.6</td>\n",
       "      <td>102490.0</td>\n",
       "      <td>Intel Core i5 Processor</td>\n",
       "      <td>16 GB</td>\n",
       "      <td>Windows 10</td>\n",
       "      <td>(512 GB SSD,)</td>\n",
       "      <td>64</td>\n",
       "      <td>DDR4</td>\n",
       "      <td>0</td>\n",
       "    </tr>\n",
       "    <tr>\n",
       "      <th>718</th>\n",
       "      <td>4.2</td>\n",
       "      <td>174990.0</td>\n",
       "      <td>Intel Core i7 Processor</td>\n",
       "      <td>16 GB</td>\n",
       "      <td>Windows 11</td>\n",
       "      <td>(512 GB SSD,)</td>\n",
       "      <td>64</td>\n",
       "      <td>DDR5</td>\n",
       "      <td>2</td>\n",
       "    </tr>\n",
       "    <tr>\n",
       "      <th>719</th>\n",
       "      <td>4.2</td>\n",
       "      <td>65990.0</td>\n",
       "      <td>Intel Core i5 Processor</td>\n",
       "      <td>16 GB</td>\n",
       "      <td>Windows 11</td>\n",
       "      <td>(512 GB SSD,)</td>\n",
       "      <td>64</td>\n",
       "      <td>DDR4</td>\n",
       "      <td>7</td>\n",
       "    </tr>\n",
       "  </tbody>\n",
       "</table>\n",
       "<p>720 rows × 9 columns</p>\n",
       "</div>"
      ],
      "text/plain": [
       "     Rating       MRP                          Processor    RAM          OS  \\\n",
       "0       4.2   25490.0  Intel Celeron Dual Core Processor   4 GB  Windows 11   \n",
       "1       3.8   22490.0            Intel Core i5 Processor   4 GB  Windows 11   \n",
       "2       4.1   25685.0  Intel Celeron Dual Core Processor   8 GB  Windows 11   \n",
       "3       4.4   51990.0            Intel Core i5 Processor   8 GB  Windows 11   \n",
       "4       4.2   38990.0            Intel Core i3 Processor   8 GB  Windows 11   \n",
       "..      ...       ...                                ...    ...         ...   \n",
       "715     4.2   33639.0            Intel Core i3 Processor   8 GB  Windows 11   \n",
       "716     4.2   46990.0    AMD Ryzen 5 Quad Core Processor   8 GB  Windows 11   \n",
       "717     4.6  102490.0            Intel Core i5 Processor  16 GB  Windows 10   \n",
       "718     4.2  174990.0            Intel Core i7 Processor  16 GB  Windows 11   \n",
       "719     4.2   65990.0            Intel Core i5 Processor  16 GB  Windows 11   \n",
       "\n",
       "           Storage  OS_arch RAM_Type  cluster  \n",
       "0    (512 GB SSD,)       64   LPDDR4        3  \n",
       "1    (512 GB SSD,)       64  LPDDR4X        6  \n",
       "2    (256 GB SSD,)       64     DDR4        1  \n",
       "3    (512 GB SSD,)       64     DDR4        5  \n",
       "4    (512 GB SSD,)       64     DDR4        5  \n",
       "..             ...      ...      ...      ...  \n",
       "715  (256 GB SSD,)       64     DDR4        1  \n",
       "716  (512 GB SSD,)       64   LPDDR5        5  \n",
       "717  (512 GB SSD,)       64     DDR4        0  \n",
       "718  (512 GB SSD,)       64     DDR5        2  \n",
       "719  (512 GB SSD,)       64     DDR4        7  \n",
       "\n",
       "[720 rows x 9 columns]"
      ]
     },
     "execution_count": 216,
     "metadata": {},
     "output_type": "execute_result"
    }
   ],
   "source": [
    "data[\"cluster\"] = pipeline.predict(data.values)\n",
    "data"
   ]
  },
  {
   "cell_type": "code",
   "execution_count": 243,
   "id": "7e03c9c5-affb-42f8-a646-51af6953018f",
   "metadata": {
    "tags": []
   },
   "outputs": [],
   "source": [
    "class Recommender:\n",
    "    def __init__(self, recommender):\n",
    "        self.recommender = recommender\n",
    "        \n",
    "    def predict(self, data):\n",
    "        return self.recommender.predict(data)\n",
    "    \n",
    "    def get_k_recommendations(self, k, cluster):\n",
    "        recommendations = data[data.cluster == cluster]\n",
    "        if recommendations.shape[0] > 0:\n",
    "            recommendations = recommendations.sample(k)\n",
    "            recommendations.index = range(1, k+1)\n",
    "        return recommendations.iloc[:,:-1]\n",
    "\n",
    "recommender = Recommender(pipeline)"
   ]
  },
  {
   "cell_type": "code",
   "execution_count": 244,
   "id": "ee9dd8fb-2f95-4646-a721-609454134708",
   "metadata": {
    "tags": []
   },
   "outputs": [
    {
     "data": {
      "text/plain": [
       "['../model/recommender.obj']"
      ]
     },
     "execution_count": 244,
     "metadata": {},
     "output_type": "execute_result"
    }
   ],
   "source": [
    "joblib.dump(recommender, \"../model/recommender.obj\")"
   ]
  },
  {
   "cell_type": "code",
   "execution_count": 250,
   "id": "fbd28f02-a37e-43e3-ab67-bdf92c4e4c3c",
   "metadata": {
    "tags": []
   },
   "outputs": [
    {
     "name": "stdout",
     "output_type": "stream",
     "text": [
      "model.obj  recommender.obj\n"
     ]
    }
   ],
   "source": [
    "!ls ../model"
   ]
  },
  {
   "cell_type": "code",
   "execution_count": 246,
   "id": "b902c6e0-54c2-42e3-b09b-7417e331a7e6",
   "metadata": {
    "tags": []
   },
   "outputs": [
    {
     "data": {
      "text/html": [
       "<div>\n",
       "<style scoped>\n",
       "    .dataframe tbody tr th:only-of-type {\n",
       "        vertical-align: middle;\n",
       "    }\n",
       "\n",
       "    .dataframe tbody tr th {\n",
       "        vertical-align: top;\n",
       "    }\n",
       "\n",
       "    .dataframe thead th {\n",
       "        text-align: right;\n",
       "    }\n",
       "</style>\n",
       "<table border=\"1\" class=\"dataframe\">\n",
       "  <thead>\n",
       "    <tr style=\"text-align: right;\">\n",
       "      <th></th>\n",
       "      <th>Rating</th>\n",
       "      <th>MRP</th>\n",
       "      <th>Processor</th>\n",
       "      <th>RAM</th>\n",
       "      <th>OS</th>\n",
       "      <th>Storage</th>\n",
       "      <th>OS_arch</th>\n",
       "      <th>RAM_Type</th>\n",
       "      <th>cluster</th>\n",
       "    </tr>\n",
       "  </thead>\n",
       "  <tbody>\n",
       "    <tr>\n",
       "      <th>0</th>\n",
       "      <td>4.2</td>\n",
       "      <td>25490.0</td>\n",
       "      <td>Intel Celeron Dual Core Processor</td>\n",
       "      <td>4 GB</td>\n",
       "      <td>Windows 11</td>\n",
       "      <td>(512 GB SSD,)</td>\n",
       "      <td>64</td>\n",
       "      <td>LPDDR4</td>\n",
       "      <td>3</td>\n",
       "    </tr>\n",
       "    <tr>\n",
       "      <th>1</th>\n",
       "      <td>3.8</td>\n",
       "      <td>22490.0</td>\n",
       "      <td>Intel Core i5 Processor</td>\n",
       "      <td>4 GB</td>\n",
       "      <td>Windows 11</td>\n",
       "      <td>(512 GB SSD,)</td>\n",
       "      <td>64</td>\n",
       "      <td>LPDDR4X</td>\n",
       "      <td>6</td>\n",
       "    </tr>\n",
       "    <tr>\n",
       "      <th>2</th>\n",
       "      <td>4.1</td>\n",
       "      <td>25685.0</td>\n",
       "      <td>Intel Celeron Dual Core Processor</td>\n",
       "      <td>8 GB</td>\n",
       "      <td>Windows 11</td>\n",
       "      <td>(256 GB SSD,)</td>\n",
       "      <td>64</td>\n",
       "      <td>DDR4</td>\n",
       "      <td>1</td>\n",
       "    </tr>\n",
       "    <tr>\n",
       "      <th>3</th>\n",
       "      <td>4.4</td>\n",
       "      <td>51990.0</td>\n",
       "      <td>Intel Core i5 Processor</td>\n",
       "      <td>8 GB</td>\n",
       "      <td>Windows 11</td>\n",
       "      <td>(512 GB SSD,)</td>\n",
       "      <td>64</td>\n",
       "      <td>DDR4</td>\n",
       "      <td>5</td>\n",
       "    </tr>\n",
       "    <tr>\n",
       "      <th>4</th>\n",
       "      <td>4.2</td>\n",
       "      <td>38990.0</td>\n",
       "      <td>Intel Core i3 Processor</td>\n",
       "      <td>8 GB</td>\n",
       "      <td>Windows 11</td>\n",
       "      <td>(512 GB SSD,)</td>\n",
       "      <td>64</td>\n",
       "      <td>DDR4</td>\n",
       "      <td>5</td>\n",
       "    </tr>\n",
       "  </tbody>\n",
       "</table>\n",
       "</div>"
      ],
      "text/plain": [
       "   Rating      MRP                          Processor   RAM          OS  \\\n",
       "0     4.2  25490.0  Intel Celeron Dual Core Processor  4 GB  Windows 11   \n",
       "1     3.8  22490.0            Intel Core i5 Processor  4 GB  Windows 11   \n",
       "2     4.1  25685.0  Intel Celeron Dual Core Processor  8 GB  Windows 11   \n",
       "3     4.4  51990.0            Intel Core i5 Processor  8 GB  Windows 11   \n",
       "4     4.2  38990.0            Intel Core i3 Processor  8 GB  Windows 11   \n",
       "\n",
       "         Storage  OS_arch RAM_Type  cluster  \n",
       "0  (512 GB SSD,)       64   LPDDR4        3  \n",
       "1  (512 GB SSD,)       64  LPDDR4X        6  \n",
       "2  (256 GB SSD,)       64     DDR4        1  \n",
       "3  (512 GB SSD,)       64     DDR4        5  \n",
       "4  (512 GB SSD,)       64     DDR4        5  "
      ]
     },
     "execution_count": 246,
     "metadata": {},
     "output_type": "execute_result"
    }
   ],
   "source": [
    "data.head()"
   ]
  },
  {
   "cell_type": "code",
   "execution_count": 224,
   "id": "a74d7280-717b-4ebe-84d8-9a41708c55e8",
   "metadata": {
    "tags": []
   },
   "outputs": [],
   "source": [
    "data.to_csv(\"../data/final.csv\")"
   ]
  },
  {
   "cell_type": "code",
   "execution_count": 247,
   "id": "4ab705ca-1468-415c-bc16-3b6f837fb2d6",
   "metadata": {
    "tags": []
   },
   "outputs": [
    {
     "data": {
      "text/html": [
       "<div>\n",
       "<style scoped>\n",
       "    .dataframe tbody tr th:only-of-type {\n",
       "        vertical-align: middle;\n",
       "    }\n",
       "\n",
       "    .dataframe tbody tr th {\n",
       "        vertical-align: top;\n",
       "    }\n",
       "\n",
       "    .dataframe thead th {\n",
       "        text-align: right;\n",
       "    }\n",
       "</style>\n",
       "<table border=\"1\" class=\"dataframe\">\n",
       "  <thead>\n",
       "    <tr style=\"text-align: right;\">\n",
       "      <th></th>\n",
       "      <th>Rating</th>\n",
       "      <th>MRP</th>\n",
       "      <th>Processor</th>\n",
       "      <th>RAM</th>\n",
       "      <th>OS</th>\n",
       "      <th>Storage</th>\n",
       "      <th>OS_arch</th>\n",
       "      <th>RAM_Type</th>\n",
       "    </tr>\n",
       "  </thead>\n",
       "  <tbody>\n",
       "    <tr>\n",
       "      <th>1</th>\n",
       "      <td>4.2</td>\n",
       "      <td>246490.0</td>\n",
       "      <td>Intel Core i7 Processor</td>\n",
       "      <td>32 GB</td>\n",
       "      <td>Windows 11</td>\n",
       "      <td>(1 TB SSD,)</td>\n",
       "      <td>64</td>\n",
       "      <td>DDR5</td>\n",
       "    </tr>\n",
       "    <tr>\n",
       "      <th>2</th>\n",
       "      <td>4.2</td>\n",
       "      <td>249900.0</td>\n",
       "      <td>Intel Core i5 Processor</td>\n",
       "      <td>16 GB</td>\n",
       "      <td>Windows 11</td>\n",
       "      <td>(1 TB SSD,)</td>\n",
       "      <td>64</td>\n",
       "      <td>Unified Memory</td>\n",
       "    </tr>\n",
       "    <tr>\n",
       "      <th>3</th>\n",
       "      <td>4.2</td>\n",
       "      <td>301818.0</td>\n",
       "      <td>Intel Core i9 Processor</td>\n",
       "      <td>32 GB</td>\n",
       "      <td>Windows 11</td>\n",
       "      <td>(1 TB SSD,)</td>\n",
       "      <td>64</td>\n",
       "      <td>DDR5</td>\n",
       "    </tr>\n",
       "    <tr>\n",
       "      <th>4</th>\n",
       "      <td>4.2</td>\n",
       "      <td>281990.0</td>\n",
       "      <td>Intel Core i9 Processor</td>\n",
       "      <td>32 GB</td>\n",
       "      <td>Windows 11</td>\n",
       "      <td>(1 TB SSD,)</td>\n",
       "      <td>64</td>\n",
       "      <td>DDR5</td>\n",
       "    </tr>\n",
       "    <tr>\n",
       "      <th>5</th>\n",
       "      <td>4.2</td>\n",
       "      <td>349900.0</td>\n",
       "      <td>Intel Core i5 Processor</td>\n",
       "      <td>32 GB</td>\n",
       "      <td>Windows 11</td>\n",
       "      <td>(1 TB SSD,)</td>\n",
       "      <td>64</td>\n",
       "      <td>Unified Memory</td>\n",
       "    </tr>\n",
       "  </tbody>\n",
       "</table>\n",
       "</div>"
      ],
      "text/plain": [
       "   Rating       MRP                Processor    RAM          OS      Storage  \\\n",
       "1     4.2  246490.0  Intel Core i7 Processor  32 GB  Windows 11  (1 TB SSD,)   \n",
       "2     4.2  249900.0  Intel Core i5 Processor  16 GB  Windows 11  (1 TB SSD,)   \n",
       "3     4.2  301818.0  Intel Core i9 Processor  32 GB  Windows 11  (1 TB SSD,)   \n",
       "4     4.2  281990.0  Intel Core i9 Processor  32 GB  Windows 11  (1 TB SSD,)   \n",
       "5     4.2  349900.0  Intel Core i5 Processor  32 GB  Windows 11  (1 TB SSD,)   \n",
       "\n",
       "   OS_arch        RAM_Type  \n",
       "1       64            DDR5  \n",
       "2       64  Unified Memory  \n",
       "3       64            DDR5  \n",
       "4       64            DDR5  \n",
       "5       64  Unified Memory  "
      ]
     },
     "execution_count": 247,
     "metadata": {},
     "output_type": "execute_result"
    }
   ],
   "source": [
    "recommender.get_k_recommendations(5, 4)"
   ]
  },
  {
   "cell_type": "code",
   "execution_count": null,
   "id": "e62d3c00-a7f8-4d68-8c4b-be60e2f45c89",
   "metadata": {},
   "outputs": [],
   "source": []
  }
 ],
 "metadata": {
  "kernelspec": {
   "display_name": "Python 3 (ipykernel)",
   "language": "python",
   "name": "python3"
  },
  "language_info": {
   "codemirror_mode": {
    "name": "ipython",
    "version": 3
   },
   "file_extension": ".py",
   "mimetype": "text/x-python",
   "name": "python",
   "nbconvert_exporter": "python",
   "pygments_lexer": "ipython3",
   "version": "3.10.10"
  }
 },
 "nbformat": 4,
 "nbformat_minor": 5
}
