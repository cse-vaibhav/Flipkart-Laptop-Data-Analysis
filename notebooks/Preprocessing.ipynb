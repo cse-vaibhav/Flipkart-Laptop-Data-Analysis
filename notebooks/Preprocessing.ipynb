{
 "cells": [
  {
   "cell_type": "code",
   "execution_count": 148,
   "id": "473b5b30-d23f-4dfd-a510-147a0528899f",
   "metadata": {
    "tags": []
   },
   "outputs": [],
   "source": [
    "import pandas as pd\n",
    "import numpy as np\n",
    "import re"
   ]
  },
  {
   "cell_type": "code",
   "execution_count": 149,
   "id": "4bf2cd4b-6a90-48b6-81be-403074569cb7",
   "metadata": {
    "tags": []
   },
   "outputs": [],
   "source": [
    "data = pd.read_csv(\"../data/new_laptop_data.csv\", index_col=0)"
   ]
  },
  {
   "cell_type": "code",
   "execution_count": 150,
   "id": "dd6d4841-d7ee-4f3f-b9c9-2a817cdf3dc5",
   "metadata": {
    "tags": []
   },
   "outputs": [
    {
     "data": {
      "text/html": [
       "<div>\n",
       "<style scoped>\n",
       "    .dataframe tbody tr th:only-of-type {\n",
       "        vertical-align: middle;\n",
       "    }\n",
       "\n",
       "    .dataframe tbody tr th {\n",
       "        vertical-align: top;\n",
       "    }\n",
       "\n",
       "    .dataframe thead th {\n",
       "        text-align: right;\n",
       "    }\n",
       "</style>\n",
       "<table border=\"1\" class=\"dataframe\">\n",
       "  <thead>\n",
       "    <tr style=\"text-align: right;\">\n",
       "      <th></th>\n",
       "      <th>Rating</th>\n",
       "      <th>MRP</th>\n",
       "      <th>Processor</th>\n",
       "      <th>RAM</th>\n",
       "      <th>OS</th>\n",
       "      <th>Storage</th>\n",
       "      <th>Brand</th>\n",
       "    </tr>\n",
       "  </thead>\n",
       "  <tbody>\n",
       "    <tr>\n",
       "      <th>0</th>\n",
       "      <td>4.2</td>\n",
       "      <td>25490.0</td>\n",
       "      <td>Intel Celeron Dual Core Processor</td>\n",
       "      <td>4 GB LPDDR4 RAM</td>\n",
       "      <td>NaN</td>\n",
       "      <td>NaN</td>\n",
       "      <td>HP</td>\n",
       "    </tr>\n",
       "    <tr>\n",
       "      <th>1</th>\n",
       "      <td>3.8</td>\n",
       "      <td>22490.0</td>\n",
       "      <td>NaN</td>\n",
       "      <td>4 GB LPDDR4X RAM</td>\n",
       "      <td>NaN</td>\n",
       "      <td>NaN</td>\n",
       "      <td>HP</td>\n",
       "    </tr>\n",
       "    <tr>\n",
       "      <th>2</th>\n",
       "      <td>4.1</td>\n",
       "      <td>25685.0</td>\n",
       "      <td>Intel Celeron Dual Core Processor</td>\n",
       "      <td>8 GB DDR4 RAM</td>\n",
       "      <td>64 bit Windows 11 Operating System</td>\n",
       "      <td>256 GB SSD</td>\n",
       "      <td>Lenovo</td>\n",
       "    </tr>\n",
       "    <tr>\n",
       "      <th>3</th>\n",
       "      <td>4.4</td>\n",
       "      <td>51990.0</td>\n",
       "      <td>Intel Core i5 Processor</td>\n",
       "      <td>8 GB DDR4 RAM</td>\n",
       "      <td>NaN</td>\n",
       "      <td>512 GB SSD</td>\n",
       "      <td>ASUS</td>\n",
       "    </tr>\n",
       "    <tr>\n",
       "      <th>4</th>\n",
       "      <td>4.2</td>\n",
       "      <td>38990.0</td>\n",
       "      <td>Intel Core i3 Processor</td>\n",
       "      <td>8 GB DDR4 RAM</td>\n",
       "      <td>64 bit Windows 11 Operating System</td>\n",
       "      <td>512 GB SSD</td>\n",
       "      <td>ASUS</td>\n",
       "    </tr>\n",
       "  </tbody>\n",
       "</table>\n",
       "</div>"
      ],
      "text/plain": [
       "   Rating      MRP                          Processor               RAM  \\\n",
       "0     4.2  25490.0  Intel Celeron Dual Core Processor   4 GB LPDDR4 RAM   \n",
       "1     3.8  22490.0                                NaN  4 GB LPDDR4X RAM   \n",
       "2     4.1  25685.0  Intel Celeron Dual Core Processor     8 GB DDR4 RAM   \n",
       "3     4.4  51990.0            Intel Core i5 Processor     8 GB DDR4 RAM   \n",
       "4     4.2  38990.0            Intel Core i3 Processor     8 GB DDR4 RAM   \n",
       "\n",
       "                                   OS     Storage   Brand  \n",
       "0                                 NaN         NaN      HP  \n",
       "1                                 NaN         NaN      HP  \n",
       "2  64 bit Windows 11 Operating System  256 GB SSD  Lenovo  \n",
       "3                                 NaN  512 GB SSD    ASUS  \n",
       "4  64 bit Windows 11 Operating System  512 GB SSD    ASUS  "
      ]
     },
     "execution_count": 150,
     "metadata": {},
     "output_type": "execute_result"
    }
   ],
   "source": [
    "data.head()"
   ]
  },
  {
   "cell_type": "code",
   "execution_count": 151,
   "id": "36452111-8e3e-4762-99b7-5bb8329160a3",
   "metadata": {
    "tags": []
   },
   "outputs": [
    {
     "data": {
      "text/plain": [
       "Rating       216\n",
       "MRP            0\n",
       "Processor    126\n",
       "RAM            0\n",
       "OS           279\n",
       "Storage       87\n",
       "Brand          0\n",
       "dtype: int64"
      ]
     },
     "execution_count": 151,
     "metadata": {},
     "output_type": "execute_result"
    }
   ],
   "source": [
    "isnull = data.isnull().sum()\n",
    "isnull"
   ]
  },
  {
   "cell_type": "markdown",
   "id": "b65616c8-da43-4b8f-926b-b0a72df3bd13",
   "metadata": {},
   "source": [
    "**Replace null values with mode**"
   ]
  },
  {
   "cell_type": "code",
   "execution_count": 152,
   "id": "5d5294c8-24c6-464d-bf6b-5110a3a77d6b",
   "metadata": {
    "tags": []
   },
   "outputs": [
    {
     "name": "stdout",
     "output_type": "stream",
     "text": [
      "4.2\n",
      "Intel Core i5 Processor\n",
      "64 bit Windows 11 Operating System\n",
      "512 GB SSD\n"
     ]
    },
    {
     "data": {
      "text/plain": [
       "Rating       0\n",
       "MRP          0\n",
       "Processor    0\n",
       "RAM          0\n",
       "OS           0\n",
       "Storage      0\n",
       "Brand        0\n",
       "dtype: int64"
      ]
     },
     "execution_count": 152,
     "metadata": {},
     "output_type": "execute_result"
    }
   ],
   "source": [
    "def mode(col):\n",
    "    return list(col.value_counts().items())[0][0]\n",
    "\n",
    "cols = isnull[isnull != 0].index\n",
    "for col in cols:\n",
    "    m = mode(data[col])\n",
    "    data[col].fillna(m, inplace=True)\n",
    "    print(m)\n",
    "\n",
    "data.isnull().sum()"
   ]
  },
  {
   "cell_type": "code",
   "execution_count": 153,
   "id": "7370213d-1725-4d30-ab0f-a562ed3d07db",
   "metadata": {
    "tags": []
   },
   "outputs": [
    {
     "data": {
      "text/html": [
       "<div>\n",
       "<style scoped>\n",
       "    .dataframe tbody tr th:only-of-type {\n",
       "        vertical-align: middle;\n",
       "    }\n",
       "\n",
       "    .dataframe tbody tr th {\n",
       "        vertical-align: top;\n",
       "    }\n",
       "\n",
       "    .dataframe thead th {\n",
       "        text-align: right;\n",
       "    }\n",
       "</style>\n",
       "<table border=\"1\" class=\"dataframe\">\n",
       "  <thead>\n",
       "    <tr style=\"text-align: right;\">\n",
       "      <th></th>\n",
       "      <th>Rating</th>\n",
       "      <th>MRP</th>\n",
       "      <th>Processor</th>\n",
       "      <th>RAM</th>\n",
       "      <th>OS</th>\n",
       "      <th>Storage</th>\n",
       "      <th>Brand</th>\n",
       "    </tr>\n",
       "  </thead>\n",
       "  <tbody>\n",
       "    <tr>\n",
       "      <th>0</th>\n",
       "      <td>4.2</td>\n",
       "      <td>25490.0</td>\n",
       "      <td>Intel Celeron Dual Core Processor</td>\n",
       "      <td>4 GB LPDDR4 RAM</td>\n",
       "      <td>64 bit Windows 11 Operating System</td>\n",
       "      <td>512 GB SSD</td>\n",
       "      <td>HP</td>\n",
       "    </tr>\n",
       "    <tr>\n",
       "      <th>1</th>\n",
       "      <td>3.8</td>\n",
       "      <td>22490.0</td>\n",
       "      <td>Intel Core i5 Processor</td>\n",
       "      <td>4 GB LPDDR4X RAM</td>\n",
       "      <td>64 bit Windows 11 Operating System</td>\n",
       "      <td>512 GB SSD</td>\n",
       "      <td>HP</td>\n",
       "    </tr>\n",
       "    <tr>\n",
       "      <th>2</th>\n",
       "      <td>4.1</td>\n",
       "      <td>25685.0</td>\n",
       "      <td>Intel Celeron Dual Core Processor</td>\n",
       "      <td>8 GB DDR4 RAM</td>\n",
       "      <td>64 bit Windows 11 Operating System</td>\n",
       "      <td>256 GB SSD</td>\n",
       "      <td>Lenovo</td>\n",
       "    </tr>\n",
       "    <tr>\n",
       "      <th>3</th>\n",
       "      <td>4.4</td>\n",
       "      <td>51990.0</td>\n",
       "      <td>Intel Core i5 Processor</td>\n",
       "      <td>8 GB DDR4 RAM</td>\n",
       "      <td>64 bit Windows 11 Operating System</td>\n",
       "      <td>512 GB SSD</td>\n",
       "      <td>ASUS</td>\n",
       "    </tr>\n",
       "    <tr>\n",
       "      <th>4</th>\n",
       "      <td>4.2</td>\n",
       "      <td>38990.0</td>\n",
       "      <td>Intel Core i3 Processor</td>\n",
       "      <td>8 GB DDR4 RAM</td>\n",
       "      <td>64 bit Windows 11 Operating System</td>\n",
       "      <td>512 GB SSD</td>\n",
       "      <td>ASUS</td>\n",
       "    </tr>\n",
       "  </tbody>\n",
       "</table>\n",
       "</div>"
      ],
      "text/plain": [
       "   Rating      MRP                          Processor               RAM  \\\n",
       "0     4.2  25490.0  Intel Celeron Dual Core Processor   4 GB LPDDR4 RAM   \n",
       "1     3.8  22490.0            Intel Core i5 Processor  4 GB LPDDR4X RAM   \n",
       "2     4.1  25685.0  Intel Celeron Dual Core Processor     8 GB DDR4 RAM   \n",
       "3     4.4  51990.0            Intel Core i5 Processor     8 GB DDR4 RAM   \n",
       "4     4.2  38990.0            Intel Core i3 Processor     8 GB DDR4 RAM   \n",
       "\n",
       "                                   OS     Storage   Brand  \n",
       "0  64 bit Windows 11 Operating System  512 GB SSD      HP  \n",
       "1  64 bit Windows 11 Operating System  512 GB SSD      HP  \n",
       "2  64 bit Windows 11 Operating System  256 GB SSD  Lenovo  \n",
       "3  64 bit Windows 11 Operating System  512 GB SSD    ASUS  \n",
       "4  64 bit Windows 11 Operating System  512 GB SSD    ASUS  "
      ]
     },
     "execution_count": 153,
     "metadata": {},
     "output_type": "execute_result"
    }
   ],
   "source": [
    "data.head()"
   ]
  },
  {
   "cell_type": "code",
   "execution_count": 154,
   "id": "ae91430c-47e8-40ff-818f-2e41f8a2fce2",
   "metadata": {
    "tags": []
   },
   "outputs": [],
   "source": [
    "cols = data.dtypes[data.dtypes == \"object\"].index\n",
    "for col in cols:\n",
    "    data[col] = data[col].apply(lambda x: x.strip())"
   ]
  },
  {
   "cell_type": "markdown",
   "id": "85bccf01-e058-43a8-952e-8f99c97f958a",
   "metadata": {},
   "source": [
    "**Extract os name**"
   ]
  },
  {
   "cell_type": "code",
   "execution_count": 155,
   "id": "67ce4887-2396-4444-ae2f-a6b27436fa9d",
   "metadata": {
    "tags": []
   },
   "outputs": [
    {
     "data": {
      "text/plain": [
       "64 bit Windows 11 Operating System    620\n",
       "64 bit Windows 10 Operating System     79\n",
       "32 bit Chrome Operating System         19\n",
       "64 bit Chrome Operating System          1\n",
       "64 bit DOS Operating System             1\n",
       "Name: OS, dtype: int64"
      ]
     },
     "execution_count": 155,
     "metadata": {},
     "output_type": "execute_result"
    }
   ],
   "source": [
    "data.OS.value_counts()"
   ]
  },
  {
   "cell_type": "code",
   "execution_count": 156,
   "id": "18cb6329-6a8c-42e8-8a88-ec8f3cc1c5d3",
   "metadata": {
    "tags": []
   },
   "outputs": [],
   "source": [
    "reg = re.compile(r\"(\\d{2}) bit (.*) Operating System\")\n",
    "reg.match(\"64 bit Windows 11 Operating System\").groups()\n",
    "\n",
    "data[\"OS_arch\"] = data.OS.apply(lambda x: reg.match(x).groups()[0])\n",
    "data.OS = data.OS.apply(lambda x: reg.match(x).groups()[1])"
   ]
  },
  {
   "cell_type": "code",
   "execution_count": 157,
   "id": "c7cceac6-02aa-43c1-a72f-94e295281fa0",
   "metadata": {
    "tags": []
   },
   "outputs": [
    {
     "data": {
      "text/html": [
       "<div>\n",
       "<style scoped>\n",
       "    .dataframe tbody tr th:only-of-type {\n",
       "        vertical-align: middle;\n",
       "    }\n",
       "\n",
       "    .dataframe tbody tr th {\n",
       "        vertical-align: top;\n",
       "    }\n",
       "\n",
       "    .dataframe thead th {\n",
       "        text-align: right;\n",
       "    }\n",
       "</style>\n",
       "<table border=\"1\" class=\"dataframe\">\n",
       "  <thead>\n",
       "    <tr style=\"text-align: right;\">\n",
       "      <th></th>\n",
       "      <th>Rating</th>\n",
       "      <th>MRP</th>\n",
       "      <th>Processor</th>\n",
       "      <th>RAM</th>\n",
       "      <th>OS</th>\n",
       "      <th>Storage</th>\n",
       "      <th>Brand</th>\n",
       "      <th>OS_arch</th>\n",
       "    </tr>\n",
       "  </thead>\n",
       "  <tbody>\n",
       "    <tr>\n",
       "      <th>0</th>\n",
       "      <td>4.2</td>\n",
       "      <td>25490.0</td>\n",
       "      <td>Intel Celeron Dual Core Processor</td>\n",
       "      <td>4 GB LPDDR4 RAM</td>\n",
       "      <td>Windows 11</td>\n",
       "      <td>512 GB SSD</td>\n",
       "      <td>HP</td>\n",
       "      <td>64</td>\n",
       "    </tr>\n",
       "    <tr>\n",
       "      <th>1</th>\n",
       "      <td>3.8</td>\n",
       "      <td>22490.0</td>\n",
       "      <td>Intel Core i5 Processor</td>\n",
       "      <td>4 GB LPDDR4X RAM</td>\n",
       "      <td>Windows 11</td>\n",
       "      <td>512 GB SSD</td>\n",
       "      <td>HP</td>\n",
       "      <td>64</td>\n",
       "    </tr>\n",
       "    <tr>\n",
       "      <th>2</th>\n",
       "      <td>4.1</td>\n",
       "      <td>25685.0</td>\n",
       "      <td>Intel Celeron Dual Core Processor</td>\n",
       "      <td>8 GB DDR4 RAM</td>\n",
       "      <td>Windows 11</td>\n",
       "      <td>256 GB SSD</td>\n",
       "      <td>Lenovo</td>\n",
       "      <td>64</td>\n",
       "    </tr>\n",
       "    <tr>\n",
       "      <th>3</th>\n",
       "      <td>4.4</td>\n",
       "      <td>51990.0</td>\n",
       "      <td>Intel Core i5 Processor</td>\n",
       "      <td>8 GB DDR4 RAM</td>\n",
       "      <td>Windows 11</td>\n",
       "      <td>512 GB SSD</td>\n",
       "      <td>ASUS</td>\n",
       "      <td>64</td>\n",
       "    </tr>\n",
       "    <tr>\n",
       "      <th>4</th>\n",
       "      <td>4.2</td>\n",
       "      <td>38990.0</td>\n",
       "      <td>Intel Core i3 Processor</td>\n",
       "      <td>8 GB DDR4 RAM</td>\n",
       "      <td>Windows 11</td>\n",
       "      <td>512 GB SSD</td>\n",
       "      <td>ASUS</td>\n",
       "      <td>64</td>\n",
       "    </tr>\n",
       "  </tbody>\n",
       "</table>\n",
       "</div>"
      ],
      "text/plain": [
       "   Rating      MRP                          Processor               RAM  \\\n",
       "0     4.2  25490.0  Intel Celeron Dual Core Processor   4 GB LPDDR4 RAM   \n",
       "1     3.8  22490.0            Intel Core i5 Processor  4 GB LPDDR4X RAM   \n",
       "2     4.1  25685.0  Intel Celeron Dual Core Processor     8 GB DDR4 RAM   \n",
       "3     4.4  51990.0            Intel Core i5 Processor     8 GB DDR4 RAM   \n",
       "4     4.2  38990.0            Intel Core i3 Processor     8 GB DDR4 RAM   \n",
       "\n",
       "           OS     Storage   Brand OS_arch  \n",
       "0  Windows 11  512 GB SSD      HP      64  \n",
       "1  Windows 11  512 GB SSD      HP      64  \n",
       "2  Windows 11  256 GB SSD  Lenovo      64  \n",
       "3  Windows 11  512 GB SSD    ASUS      64  \n",
       "4  Windows 11  512 GB SSD    ASUS      64  "
      ]
     },
     "execution_count": 157,
     "metadata": {},
     "output_type": "execute_result"
    }
   ],
   "source": [
    "data.head()"
   ]
  },
  {
   "cell_type": "code",
   "execution_count": 158,
   "id": "c313d5fe-fb85-4f76-9ec0-55cda413bba2",
   "metadata": {
    "tags": []
   },
   "outputs": [
    {
     "data": {
      "text/plain": [
       "8 GB DDR4 RAM                                                                                             269\n",
       "16 GB DDR4 RAM                                                                                            156\n",
       "16 GB DDR5 RAM                                                                                             51\n",
       "4 GB LPDDR4 RAM                                                                                            38\n",
       "4 GB DDR4 RAM                                                                                              34\n",
       "4 GB LPDDR4X RAM                                                                                           32\n",
       "16 GB LPDDR5 RAM                                                                                           28\n",
       "32 GB DDR5 RAM                                                                                             22\n",
       "16 GB LPDDR4X RAM                                                                                          20\n",
       "8 GB LPDDR4X RAM                                                                                           18\n",
       "8 GB Unified Memory RAM                                                                                     9\n",
       "16 GB Unified Memory RAM                                                                                    9\n",
       "8 GB LPDDR5 RAM                                                                                             9\n",
       "32 GB Unified Memory RAM                                                                                    6\n",
       "8 GB DDR5 RAM                                                                                               6\n",
       "32 GB LPDDR5 RAM                                                                                            5\n",
       "32 GB DDR4 RAM                                                                                              3\n",
       "8 GB DDR3 RAM                                                                                               2\n",
       "16 GB LPDDR4 RAM                                                                                            1\n",
       "128 GB SSD for Reduced Boot Up Time and in Game LoadingUpgradable SSD Upto 512 GB and RAM8 GB DDR4 RAM      1\n",
       "8 GB LPDDR3 RAM                                                                                             1\n",
       "Name: RAM, dtype: int64"
      ]
     },
     "execution_count": 158,
     "metadata": {},
     "output_type": "execute_result"
    }
   ],
   "source": [
    "data.RAM.value_counts()"
   ]
  },
  {
   "cell_type": "code",
   "execution_count": 159,
   "id": "9f52927f-70ee-44b2-be46-50f52c64dfd8",
   "metadata": {
    "tags": []
   },
   "outputs": [],
   "source": [
    "# drop the long one\n",
    "data.RAM = data.RAM.replace(\"128 GB SSD for Reduced Boot Up Time and in Game LoadingUpgradable SSD Upto 512 GB and RAM8 GB DDR4 RAM\", \"8 GB DDR4 RAM\")"
   ]
  },
  {
   "cell_type": "code",
   "execution_count": 160,
   "id": "57b0c2bd-020a-4cbb-aa90-049c57d3e8f7",
   "metadata": {
    "tags": []
   },
   "outputs": [],
   "source": [
    "reg = re.compile(r\"(\\d+)\\s(GB)\\s(.*)\\s(RAM)\")\n",
    "reg.match(\"833 GB Unified Memory RAM\").groups()\n",
    "\n",
    "data[\"RAM_Type\"] = data.RAM.apply(lambda x: reg.match(x).groups()[-2])\n",
    "data.RAM = data.RAM.apply(lambda x: \" \".join(reg.match(x).groups()[:2]))\n"
   ]
  },
  {
   "cell_type": "code",
   "execution_count": 161,
   "id": "aaac5b00-8473-4906-b7ea-d9bf5d5ad657",
   "metadata": {
    "tags": []
   },
   "outputs": [
    {
     "data": {
      "text/html": [
       "<div>\n",
       "<style scoped>\n",
       "    .dataframe tbody tr th:only-of-type {\n",
       "        vertical-align: middle;\n",
       "    }\n",
       "\n",
       "    .dataframe tbody tr th {\n",
       "        vertical-align: top;\n",
       "    }\n",
       "\n",
       "    .dataframe thead th {\n",
       "        text-align: right;\n",
       "    }\n",
       "</style>\n",
       "<table border=\"1\" class=\"dataframe\">\n",
       "  <thead>\n",
       "    <tr style=\"text-align: right;\">\n",
       "      <th></th>\n",
       "      <th>Rating</th>\n",
       "      <th>MRP</th>\n",
       "      <th>Processor</th>\n",
       "      <th>RAM</th>\n",
       "      <th>OS</th>\n",
       "      <th>Storage</th>\n",
       "      <th>Brand</th>\n",
       "      <th>OS_arch</th>\n",
       "      <th>RAM_Type</th>\n",
       "    </tr>\n",
       "  </thead>\n",
       "  <tbody>\n",
       "    <tr>\n",
       "      <th>0</th>\n",
       "      <td>4.2</td>\n",
       "      <td>25490.0</td>\n",
       "      <td>Intel Celeron Dual Core Processor</td>\n",
       "      <td>4 GB</td>\n",
       "      <td>Windows 11</td>\n",
       "      <td>512 GB SSD</td>\n",
       "      <td>HP</td>\n",
       "      <td>64</td>\n",
       "      <td>LPDDR4</td>\n",
       "    </tr>\n",
       "    <tr>\n",
       "      <th>1</th>\n",
       "      <td>3.8</td>\n",
       "      <td>22490.0</td>\n",
       "      <td>Intel Core i5 Processor</td>\n",
       "      <td>4 GB</td>\n",
       "      <td>Windows 11</td>\n",
       "      <td>512 GB SSD</td>\n",
       "      <td>HP</td>\n",
       "      <td>64</td>\n",
       "      <td>LPDDR4X</td>\n",
       "    </tr>\n",
       "    <tr>\n",
       "      <th>2</th>\n",
       "      <td>4.1</td>\n",
       "      <td>25685.0</td>\n",
       "      <td>Intel Celeron Dual Core Processor</td>\n",
       "      <td>8 GB</td>\n",
       "      <td>Windows 11</td>\n",
       "      <td>256 GB SSD</td>\n",
       "      <td>Lenovo</td>\n",
       "      <td>64</td>\n",
       "      <td>DDR4</td>\n",
       "    </tr>\n",
       "    <tr>\n",
       "      <th>3</th>\n",
       "      <td>4.4</td>\n",
       "      <td>51990.0</td>\n",
       "      <td>Intel Core i5 Processor</td>\n",
       "      <td>8 GB</td>\n",
       "      <td>Windows 11</td>\n",
       "      <td>512 GB SSD</td>\n",
       "      <td>ASUS</td>\n",
       "      <td>64</td>\n",
       "      <td>DDR4</td>\n",
       "    </tr>\n",
       "    <tr>\n",
       "      <th>4</th>\n",
       "      <td>4.2</td>\n",
       "      <td>38990.0</td>\n",
       "      <td>Intel Core i3 Processor</td>\n",
       "      <td>8 GB</td>\n",
       "      <td>Windows 11</td>\n",
       "      <td>512 GB SSD</td>\n",
       "      <td>ASUS</td>\n",
       "      <td>64</td>\n",
       "      <td>DDR4</td>\n",
       "    </tr>\n",
       "  </tbody>\n",
       "</table>\n",
       "</div>"
      ],
      "text/plain": [
       "   Rating      MRP                          Processor   RAM          OS  \\\n",
       "0     4.2  25490.0  Intel Celeron Dual Core Processor  4 GB  Windows 11   \n",
       "1     3.8  22490.0            Intel Core i5 Processor  4 GB  Windows 11   \n",
       "2     4.1  25685.0  Intel Celeron Dual Core Processor  8 GB  Windows 11   \n",
       "3     4.4  51990.0            Intel Core i5 Processor  8 GB  Windows 11   \n",
       "4     4.2  38990.0            Intel Core i3 Processor  8 GB  Windows 11   \n",
       "\n",
       "      Storage   Brand OS_arch RAM_Type  \n",
       "0  512 GB SSD      HP      64   LPDDR4  \n",
       "1  512 GB SSD      HP      64  LPDDR4X  \n",
       "2  256 GB SSD  Lenovo      64     DDR4  \n",
       "3  512 GB SSD    ASUS      64     DDR4  \n",
       "4  512 GB SSD    ASUS      64     DDR4  "
      ]
     },
     "execution_count": 161,
     "metadata": {},
     "output_type": "execute_result"
    }
   ],
   "source": [
    "data.head()"
   ]
  },
  {
   "cell_type": "code",
   "execution_count": 162,
   "id": "acabaab2-055f-4bdf-bf78-b0548ee484a0",
   "metadata": {},
   "outputs": [
    {
     "data": {
      "text/plain": [
       "512 GB SSD                      484\n",
       "1 TB SSD                        120\n",
       "256 GB SSD                       72\n",
       "1 TB HDD256 GB SSD               24\n",
       "2 TB SSD                         10\n",
       "128 GB SSD                        3\n",
       "128 GB SSD1 TB HDD128 GB SSD      2\n",
       "1 TB HDD512 GB SSD                1\n",
       "512 GB HDD512 GB SSD              1\n",
       "4 TB SSD                          1\n",
       "1 TB HDD128 GB SSD                1\n",
       "1 TB HDD                          1\n",
       "Name: Storage, dtype: int64"
      ]
     },
     "execution_count": 162,
     "metadata": {},
     "output_type": "execute_result"
    }
   ],
   "source": [
    "data.Storage.value_counts()"
   ]
  },
  {
   "cell_type": "code",
   "execution_count": 163,
   "id": "1d3948d4-e76b-4925-b50f-10977f6f7e40",
   "metadata": {
    "tags": []
   },
   "outputs": [
    {
     "data": {
      "text/plain": [
       "'128 GB SSD,1 TB HDD,128 GB SSD'"
      ]
     },
     "execution_count": 163,
     "metadata": {},
     "output_type": "execute_result"
    }
   ],
   "source": [
    "re.sub(r\"\\s([A-Z]+)(\\d+)\\s\", r\" \\1,\\2 \", \"128 GB SSD1 TB HDD128 GB SSD\")"
   ]
  },
  {
   "cell_type": "code",
   "execution_count": 164,
   "id": "5d5fd88e-a863-4c95-a6a7-8649fad9419e",
   "metadata": {
    "tags": []
   },
   "outputs": [
    {
     "data": {
      "text/plain": [
       "295    [512 GB SSD]\n",
       "Name: Storage, dtype: object"
      ]
     },
     "execution_count": 164,
     "metadata": {},
     "output_type": "execute_result"
    }
   ],
   "source": [
    "reg = re.compile(r\"\\s([A-Z]+)(\\d+)\\s\")\n",
    "reg.sub(r\" \\1,\\2 \", \"128 GB SSD1 TB HDD128 GB SSD\")\n",
    "data.Storage = data.Storage.apply(lambda x: reg.sub(r\" \\1,\\2 \", x))\n",
    "data.Storage = data.Storage.apply(lambda x: x.split(','))\n",
    "data.Storage.sample()"
   ]
  },
  {
   "cell_type": "code",
   "execution_count": 165,
   "id": "f0dbea1e-34fc-457d-916d-cc8d66fc8da2",
   "metadata": {
    "tags": []
   },
   "outputs": [],
   "source": [
    "data.to_csv(\"../data/preprocessed.csv\")"
   ]
  },
  {
   "cell_type": "code",
   "execution_count": 166,
   "id": "8d2545c0-81c0-40fc-bb06-6c77a3f67409",
   "metadata": {},
   "outputs": [
    {
     "data": {
      "text/html": [
       "<div>\n",
       "<style scoped>\n",
       "    .dataframe tbody tr th:only-of-type {\n",
       "        vertical-align: middle;\n",
       "    }\n",
       "\n",
       "    .dataframe tbody tr th {\n",
       "        vertical-align: top;\n",
       "    }\n",
       "\n",
       "    .dataframe thead th {\n",
       "        text-align: right;\n",
       "    }\n",
       "</style>\n",
       "<table border=\"1\" class=\"dataframe\">\n",
       "  <thead>\n",
       "    <tr style=\"text-align: right;\">\n",
       "      <th></th>\n",
       "      <th>Rating</th>\n",
       "      <th>MRP</th>\n",
       "      <th>Processor</th>\n",
       "      <th>RAM</th>\n",
       "      <th>OS</th>\n",
       "      <th>Storage</th>\n",
       "      <th>Brand</th>\n",
       "      <th>OS_arch</th>\n",
       "      <th>RAM_Type</th>\n",
       "    </tr>\n",
       "  </thead>\n",
       "  <tbody>\n",
       "    <tr>\n",
       "      <th>0</th>\n",
       "      <td>4.2</td>\n",
       "      <td>25490.0</td>\n",
       "      <td>Intel Celeron Dual Core Processor</td>\n",
       "      <td>4 GB</td>\n",
       "      <td>Windows 11</td>\n",
       "      <td>[512 GB SSD]</td>\n",
       "      <td>HP</td>\n",
       "      <td>64</td>\n",
       "      <td>LPDDR4</td>\n",
       "    </tr>\n",
       "    <tr>\n",
       "      <th>1</th>\n",
       "      <td>3.8</td>\n",
       "      <td>22490.0</td>\n",
       "      <td>Intel Core i5 Processor</td>\n",
       "      <td>4 GB</td>\n",
       "      <td>Windows 11</td>\n",
       "      <td>[512 GB SSD]</td>\n",
       "      <td>HP</td>\n",
       "      <td>64</td>\n",
       "      <td>LPDDR4X</td>\n",
       "    </tr>\n",
       "    <tr>\n",
       "      <th>2</th>\n",
       "      <td>4.1</td>\n",
       "      <td>25685.0</td>\n",
       "      <td>Intel Celeron Dual Core Processor</td>\n",
       "      <td>8 GB</td>\n",
       "      <td>Windows 11</td>\n",
       "      <td>[256 GB SSD]</td>\n",
       "      <td>Lenovo</td>\n",
       "      <td>64</td>\n",
       "      <td>DDR4</td>\n",
       "    </tr>\n",
       "    <tr>\n",
       "      <th>3</th>\n",
       "      <td>4.4</td>\n",
       "      <td>51990.0</td>\n",
       "      <td>Intel Core i5 Processor</td>\n",
       "      <td>8 GB</td>\n",
       "      <td>Windows 11</td>\n",
       "      <td>[512 GB SSD]</td>\n",
       "      <td>ASUS</td>\n",
       "      <td>64</td>\n",
       "      <td>DDR4</td>\n",
       "    </tr>\n",
       "    <tr>\n",
       "      <th>4</th>\n",
       "      <td>4.2</td>\n",
       "      <td>38990.0</td>\n",
       "      <td>Intel Core i3 Processor</td>\n",
       "      <td>8 GB</td>\n",
       "      <td>Windows 11</td>\n",
       "      <td>[512 GB SSD]</td>\n",
       "      <td>ASUS</td>\n",
       "      <td>64</td>\n",
       "      <td>DDR4</td>\n",
       "    </tr>\n",
       "  </tbody>\n",
       "</table>\n",
       "</div>"
      ],
      "text/plain": [
       "   Rating      MRP                          Processor   RAM          OS  \\\n",
       "0     4.2  25490.0  Intel Celeron Dual Core Processor  4 GB  Windows 11   \n",
       "1     3.8  22490.0            Intel Core i5 Processor  4 GB  Windows 11   \n",
       "2     4.1  25685.0  Intel Celeron Dual Core Processor  8 GB  Windows 11   \n",
       "3     4.4  51990.0            Intel Core i5 Processor  8 GB  Windows 11   \n",
       "4     4.2  38990.0            Intel Core i3 Processor  8 GB  Windows 11   \n",
       "\n",
       "        Storage   Brand OS_arch RAM_Type  \n",
       "0  [512 GB SSD]      HP      64   LPDDR4  \n",
       "1  [512 GB SSD]      HP      64  LPDDR4X  \n",
       "2  [256 GB SSD]  Lenovo      64     DDR4  \n",
       "3  [512 GB SSD]    ASUS      64     DDR4  \n",
       "4  [512 GB SSD]    ASUS      64     DDR4  "
      ]
     },
     "execution_count": 166,
     "metadata": {},
     "output_type": "execute_result"
    }
   ],
   "source": [
    "data.head()"
   ]
  },
  {
   "cell_type": "code",
   "execution_count": 169,
   "id": "8ee48c3f-66c8-4a6a-8bdf-b5630f57991c",
   "metadata": {},
   "outputs": [
    {
     "data": {
      "text/plain": [
       "'512 GB SSD'"
      ]
     },
     "execution_count": 169,
     "metadata": {},
     "output_type": "execute_result"
    }
   ],
   "source": []
  },
  {
   "cell_type": "code",
   "execution_count": null,
   "id": "92ae1929-a893-4b6f-b7b0-55d2df0fbc0f",
   "metadata": {},
   "outputs": [],
   "source": []
  }
 ],
 "metadata": {
  "kernelspec": {
   "display_name": "Python 3 (ipykernel)",
   "language": "python",
   "name": "python3"
  },
  "language_info": {
   "codemirror_mode": {
    "name": "ipython",
    "version": 3
   },
   "file_extension": ".py",
   "mimetype": "text/x-python",
   "name": "python",
   "nbconvert_exporter": "python",
   "pygments_lexer": "ipython3",
   "version": "3.10.10"
  }
 },
 "nbformat": 4,
 "nbformat_minor": 5
}
